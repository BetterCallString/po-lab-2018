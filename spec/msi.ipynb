{
 "cells": [
  {
   "cell_type": "markdown",
   "metadata": {},
   "source": [
    "# Modular Strided Intervals\n",
    "\n",
    "Fix $N \\in \\{1, \\ldots, 2^{23} - 1\\}$.\n",
    "\n",
    "The LLVM type $\\texttt{i}N$ represents $N$-bit tuples:\n",
    "\n",
    "$\\texttt{i}N := \\{0, 1\\}^N$\n",
    "\n",
    "These tuples can be interpreted as elements of $\\mathbb{Z}/{2^N}$ using the isomorphism $\\phi_N$ together with an appropriate map of operations:\n",
    "\n",
    "$\\phi_N \\colon \\texttt{i}N \\rightarrow \\mathbb{Z}/{2^N}, (b_0, \\ldots, b_{N-1}) \\mapsto \\left(\\sum_{k=0}^{N-1}b_k^k\\right) + 2^N \\mathbb{Z}$\n",
    "\n",
    "An abstraction of $\\mathbb{Z}$ and thefore also of $\\texttt{i}N$ can be obtained by a generalization of intervals over $\\mathbb{Z}$, represeted by the type $\\mathrm{MSI}_N$ of _modular strided intervals (MSI)_:\n",
    "\n",
    "$\\mathrm{MSI}_N := \\{s[a, b]_N \\mid a, b, s \\in \\mathbb{Z}/2^N\\}$\n",
    "\n",
    "The sematics of an MSI is given by the concetization function $\\gamma_N$:\n",
    "\n",
    "$\\gamma_N \\colon \\mathrm{MSI}_N \\rightarrow \\mathcal{P}(\\mathbb{Z}/{2^N}), s[a, b]_N \\mapsto \\{k + 2^N \\mathbb{Z} \\mid k \\in \\mathbb{Z}, a \\leq k, k \\leq \\min \\{l \\in \\mathbb{Z} \\mid a \\leq k, l \\equiv b \\mod 2^N\\}, k \\equiv a \\mod s\\}$"
   ]
  },
  {
   "cell_type": "code",
   "execution_count": 126,
   "metadata": {},
   "outputs": [],
   "source": [
    "from itertools import count, takewhile\n",
    "from random import randint\n",
    "from sympy import gcd, lcm"
   ]
  },
  {
   "cell_type": "code",
   "execution_count": 2,
   "metadata": {},
   "outputs": [],
   "source": [
    "class MSI(object):\n",
    "    \"\"\"\n",
    "    Modular strided iterval\n",
    "    \"\"\"\n",
    "    def __init__(self, bit_width, begin, end, stride=1):\n",
    "        self.bit_width = bit_width\n",
    "        self.begin = begin\n",
    "        self.end = end\n",
    "        self.stride = stride\n",
    "\n",
    "    def __eq__(self, other):\n",
    "        return (self.bit_width == other.bit_width\n",
    "            and self.stride == other.stride\n",
    "            and self.begin == other.begin\n",
    "            and self.end == other.end)\n",
    "\n",
    "    def __repr__(self):\n",
    "        return f'{self.stride}[{self.begin}, {self.end}]_{{{self.bit_width}}}'\n",
    "    \n",
    "    def __hash__(self):\n",
    "        return (self.begin+23) * (self.end+29) * (self.stride+31) % 16777216\n",
    "    \n",
    "    def _tuple_repr(self):\n",
    "        return (self.bit_width, self.begin, self.end, self.stride)"
   ]
  },
  {
   "cell_type": "markdown",
   "metadata": {},
   "source": [
    "## Defining Functions and Predicates"
   ]
  },
  {
   "cell_type": "code",
   "execution_count": 3,
   "metadata": {},
   "outputs": [],
   "source": [
    "# This predicate has not tests, it's an axiom.\n",
    "def valid(i):\n",
    "    n, a, b, s = i._tuple_repr()\n",
    "    if n <= 0:\n",
    "        return False\n",
    "    if a < 0 or 2**n <= a:\n",
    "        return False\n",
    "    if b < 0 or 2**n <= b:\n",
    "        return False\n",
    "    if s < 0 or 2**n <= s:\n",
    "        return False\n",
    "    return True"
   ]
  },
  {
   "cell_type": "code",
   "execution_count": 4,
   "metadata": {},
   "outputs": [],
   "source": [
    "def gamma(i):\n",
    "    n = i.bit_width\n",
    "    s = i.stride\n",
    "    a = i.begin\n",
    "    b = i.end if a <= i.end else i.end + 2**n\n",
    "    return {k % 2**n for k in takewhile(\n",
    "        lambda k: k <= b,\n",
    "        (a+l*s for l in count()) if s > 0 else [a]\n",
    "    )}"
   ]
  },
  {
   "cell_type": "markdown",
   "metadata": {},
   "source": [
    "$\\gamma_N$ is not injective, therefore normalization of MSIs is needed s.t. $\\gamma_N$ restricted to $\\{i \\in \\mathrm{MSI}_N \\mid \\mathrm{normal}(i)\\}$ is injective. All other operatins on MSIs assume that there operands are normal and are expected to return a normal MSI.\n",
    "\n",
    "Expanation of $\\textrm{normal}$:\n",
    "\n",
    "Fix $s[a, b]_N \\in \\textrm{MSI}_N$.\n",
    "\n",
    "Case 1:\n",
    "  \n",
    "  Assume $s = 0$."
   ]
  },
  {
   "cell_type": "code",
   "execution_count": 5,
   "metadata": {},
   "outputs": [],
   "source": [
    "def normal(i):\n",
    "    n, a, b, s = i._tuple_repr()\n",
    "    if s == 0 and a != b:\n",
    "        return False\n",
    "    if a == b and s != 0:\n",
    "        return False\n",
    "    if not b in gamma(i):\n",
    "        return False\n",
    "    a_ = a - s\n",
    "    if a_ != a and a_ >= 0 and gamma(i) == gamma(MSI(n, a_, (b-s) % 2**n, s)):\n",
    "        return False\n",
    "    if b < a and gamma(i) == gamma(MSI(n, b, a, 2**n - s)):\n",
    "        return False\n",
    "    return True"
   ]
  },
  {
   "cell_type": "markdown",
   "metadata": {},
   "source": [
    "## Test sets of MSIs with theire respective concretizations"
   ]
  },
  {
   "cell_type": "code",
   "execution_count": 6,
   "metadata": {},
   "outputs": [],
   "source": [
    "test_MSIs_handpicked_gamma = [\n",
    "    # normalized\n",
    "    #   no wraparound\n",
    "    #     strid = 0\n",
    "    #       begin = 0\n",
    "    (MSI(4, 0, 0, 0), {0}),\n",
    "    #       begin > 0\n",
    "    (MSI(4, 3, 3, 0), {3}),\n",
    "    #     strid = 1\n",
    "    #       begin = 0\n",
    "    #         end < 2**N-1\n",
    "    (MSI(4, 0, 2, 1), {0, 1, 2}),\n",
    "    #         end = 2**N-1\n",
    "    (MSI(3, 0, 7, 1), {0, 1, 2, 3, 4, 5, 6, 7}),\n",
    "    #       begin > 0\n",
    "    (MSI(4, 3, 4, 1), {3, 4}),\n",
    "    #     stride > 1\n",
    "    #       begin = 0\n",
    "    (MSI(4, 0, 4, 2), {0, 2, 4}),\n",
    "    #       begin > 0\n",
    "    (MSI(3, 1, 7, 3), {1, 4, 7}),\n",
    "    (MSI(6, 6, 26, 10), {6, 16, 26}),\n",
    "    #   wraparound\n",
    "    #     stride = 1\n",
    "    (MSI(4, 14, 2, 1), {14, 15, 0, 1, 2}),\n",
    "    #     stride > 1\n",
    "    (MSI(4, 11, 4, 3), {1, 4, 11, 14})]\n",
    "test_MSIs_handpicked_gamma_unnormalized = [\n",
    "    # unnormalized\n",
    "    #   no wraparound\n",
    "    #     stride = 0\n",
    "    #       begin = 0\n",
    "    (MSI(4, 0, 3, 0), {0}),\n",
    "    #       begin > 0\n",
    "    (MSI(4, 3, 8, 0), {3}),\n",
    "    #     stride = 1\n",
    "    #       begin = 0\n",
    "    #         end = begin\n",
    "    (MSI(4, 0, 0, 1), {0}),\n",
    "    #         end != begin\n",
    "    (MSI(2, 2, 1, 1), {0, 1, 2, 3}),\n",
    "    #       begin > 0\n",
    "    #         end = begin\n",
    "    (MSI(4, 3, 3, 1), {3}),\n",
    "    #         end != begin\n",
    "    (MSI(3, 5, 4, 1), {0, 1, 2, 3, 4, 5, 6, 7}),\n",
    "    #     stride > 1\n",
    "    #       begin = 0\n",
    "    (MSI(4, 0, 5, 2), {0, 2, 4}),\n",
    "    (MSI(4, 0, 3, 5), {0}),\n",
    "    #       begin > 0\n",
    "    #         end = begin - stride mod 2**N\n",
    "    (MSI(4, 11, 7, 4), {3, 7, 11, 15}),\n",
    "    #         end != begin - stride mod 2**N\n",
    "    (MSI(6, 6, 35, 10), {6, 16, 26}),\n",
    "    (MSI(4, 3, 7, 5), {3}),\n",
    "    #   wraparound\n",
    "    #     stride = 0\n",
    "    (MSI(4, 5, 3, 0), {5}),\n",
    "    #     stride = 1\n",
    "    (MSI(3, 5, 4, 1), {0, 1, 2, 3, 4, 5, 6, 7}),\n",
    "    (MSI(4, 15, 0, 1), {15, 0}),\n",
    "    #     stride > 1\n",
    "    #       end = begin - stride mod 2**N\n",
    "    (MSI(4, 10, 6, 4), {2, 6, 10, 14}),\n",
    "    (MSI(4, 12, 2, 6), {2, 12}),\n",
    "    #       end != begin and != begin - stride mod 2**N\n",
    "    (MSI(4, 13, 2, 8), {13}),\n",
    "    (MSI(4, 11, 6, 3), {11, 14, 1, 4}),\n",
    "    (MSI(4, 10, 9, 4), {2, 6, 10, 14}),\n",
    "    (MSI(4, 12, 7, 6), {2, 12})\n",
    "]"
   ]
  },
  {
   "cell_type": "code",
   "execution_count": 7,
   "metadata": {},
   "outputs": [
    {
     "name": "stdout",
     "output_type": "stream",
     "text": [
      "size: 4: 7, 3: 2, 6: 1\n",
      "size: 4: 16, 2: 1, 3: 2, 6: 1\n"
     ]
    }
   ],
   "source": [
    "test_MSIs_handpicked = {}\n",
    "for i, _ in test_MSIs_handpicked_gamma:\n",
    "    n = i.bit_width\n",
    "    if n not in test_MSIs_handpicked:\n",
    "        test_MSIs_handpicked[n] = [i]\n",
    "    else:\n",
    "        test_MSIs_handpicked[n].append(i)\n",
    "print('size: ' + ', '.join(f'{n}: {len(js)}' for n, js in test_MSIs_handpicked.items()))\n",
    "\n",
    "test_MSIs_handpicked_unnormalized = {}\n",
    "for i, _ in test_MSIs_handpicked_gamma_unnormalized:\n",
    "    n = i.bit_width\n",
    "    if n not in test_MSIs_handpicked_unnormalized:\n",
    "        test_MSIs_handpicked_unnormalized[n] = [i]\n",
    "    else:\n",
    "        test_MSIs_handpicked_unnormalized[n].append(i)\n",
    "print('size: ' + ', '.join(f'{n}: {len(js)}' for n, js in test_MSIs_handpicked_unnormalized.items()))"
   ]
  },
  {
   "cell_type": "markdown",
   "metadata": {},
   "source": [
    "## Tests for gamma"
   ]
  },
  {
   "cell_type": "code",
   "execution_count": 8,
   "metadata": {},
   "outputs": [],
   "source": [
    "def test_gamma():\n",
    "    failed = False\n",
    "    for i, ks in test_MSIs_handpicked_gamma:\n",
    "        if not gamma(i) == ks:\n",
    "            failed = True\n",
    "            print(f'{i}: {gamma(i)}, {ks}')\n",
    "    if not failed:\n",
    "        print('succeeded')\n",
    "\n",
    "def test_gamma_unnormalized():\n",
    "    failed = False\n",
    "    for i, ks in test_MSIs_handpicked_gamma_unnormalized:\n",
    "        if not gamma(i) == ks:\n",
    "            failed = True\n",
    "            print(f'{i}: {gamma(i)}, {ks}')\n",
    "    if not failed:\n",
    "        print('succeeded')"
   ]
  },
  {
   "cell_type": "code",
   "execution_count": 9,
   "metadata": {},
   "outputs": [
    {
     "name": "stdout",
     "output_type": "stream",
     "text": [
      "succeeded\n",
      "succeeded\n"
     ]
    }
   ],
   "source": [
    "test_gamma()\n",
    "test_gamma_unnormalized()"
   ]
  },
  {
   "cell_type": "markdown",
   "metadata": {},
   "source": [
    "## Normalization function"
   ]
  },
  {
   "cell_type": "code",
   "execution_count": 10,
   "metadata": {},
   "outputs": [],
   "source": [
    "def normalize(i):\n",
    "    n, a, b, s = i._tuple_repr()\n",
    "    if s == 0:\n",
    "        b = a\n",
    "    else:\n",
    "        b_ = b if a <= b else b+2**n\n",
    "        b = (b_ - (b_-a) % s) % 2**n\n",
    "        if a == b:\n",
    "            s = 0\n",
    "        else:\n",
    "            if 2**n % s == 0 and (a-b) % 2**n == s:\n",
    "                a = a % s\n",
    "                b = (a-s) % 2**n\n",
    "            elif b == (a+s) % 2**n and b < a:\n",
    "                a, b = b, a\n",
    "                s = b-a\n",
    "    return MSI(n, a, b, s)"
   ]
  },
  {
   "cell_type": "markdown",
   "metadata": {},
   "source": [
    "## Test sets and utility functions for testing"
   ]
  },
  {
   "cell_type": "markdown",
   "metadata": {},
   "source": [
    "Warning:\n",
    "\n",
    "`normal` is used in `unary_function_test` if the `unnormalized` parameter is `True`, but tested later. Therefore this parameter should not be set before `normal` is tested."
   ]
  },
  {
   "cell_type": "code",
   "execution_count": 11,
   "metadata": {},
   "outputs": [],
   "source": [
    "def test_set(bit_widths, begins, ends, strides, only_normal=True, print_stats=False):\n",
    "    MSIs = {}\n",
    "    for n in bit_widths:\n",
    "        js = set()\n",
    "        bs = begins(n)\n",
    "        for b in bs:\n",
    "            es = ends(n)\n",
    "            for e in es:\n",
    "                ss = strides(n)\n",
    "                for s in ss:\n",
    "                    if only_normal:\n",
    "                        js.add(normalize(MSI(n, b, e, s)))\n",
    "                    else:\n",
    "                        js.add(MSI(n, b, e, s))\n",
    "        MSIs[n] = list(js)\n",
    "    if print_stats:\n",
    "        print('size: ' + ', '.join(f'{n}: {len(js)}' for n, js in MSIs.items()))\n",
    "        if not only_normal:\n",
    "            print('unnormalized: ' + ', '.join(f'{n}: {len(list(0 for j in js if not normal(j)))}' for n, js in MSIs.items()))\n",
    "    return MSIs"
   ]
  },
  {
   "cell_type": "code",
   "execution_count": 12,
   "metadata": {},
   "outputs": [
    {
     "name": "stdout",
     "output_type": "stream",
     "text": [
      "test_MSIs_4_exhaustive\n",
      "size: 1: 3, 2: 15, 3: 95, 4: 575\n",
      "test_MSIs_4_exhaustive\n",
      "size: 1: 8, 2: 64, 3: 512, 4: 4096\n",
      "unnormalized: 1: 5, 2: 49, 3: 417, 4: 3521\n"
     ]
    }
   ],
   "source": [
    "f = lambda n: list(range(2**n))\n",
    "g = lambda n: list(range(2**n))\n",
    "print('test_MSIs_4_exhaustive')\n",
    "test_MSIs_4_exhaustive = test_set(range(1, 4+1), f, g, f, print_stats=True)\n",
    "print('test_MSIs_4_exhaustive')\n",
    "test_MSIs_4_exhaustive_unnormalized = test_set(range(1, 4+1), f, g, f, only_normal=False, print_stats=True)"
   ]
  },
  {
   "cell_type": "code",
   "execution_count": 13,
   "metadata": {},
   "outputs": [
    {
     "name": "stdout",
     "output_type": "stream",
     "text": [
      "test_MSIs_5_6_exhaustive\n",
      "size: 5: 3039, 6: 15231\n",
      "test_MSIs_5_6_exhaustive\n",
      "size: 5: 32768, 6: 262144\n",
      "unnormalized: 5: 29729, 6: 246913\n"
     ]
    }
   ],
   "source": [
    "f = lambda n: list(range(2**n))\n",
    "g = lambda n: list(range(2**n))\n",
    "print('test_MSIs_5_6_exhaustive')\n",
    "test_MSIs_5_6_exhaustive = test_set(range(5, 6+1), f, g, f, print_stats=True)\n",
    "print('test_MSIs_5_6_exhaustive')\n",
    "test_MSIs_5_6_exhaustive_unnormalized = test_set(range(5, 6+1), f, g, f, only_normal=False, print_stats=True)"
   ]
  },
  {
   "cell_type": "code",
   "execution_count": 14,
   "metadata": {},
   "outputs": [],
   "source": [
    "test_MSIs_6_exhaustive = {\n",
    "    **test_MSIs_4_exhaustive, **test_MSIs_5_6_exhaustive\n",
    "}\n",
    "test_MSIs_6_exhaustive_unnormalized = {\n",
    "    **test_MSIs_4_exhaustive_unnormalized, **test_MSIs_5_6_exhaustive_unnormalized\n",
    "}"
   ]
  },
  {
   "cell_type": "code",
   "execution_count": 15,
   "metadata": {},
   "outputs": [
    {
     "name": "stdout",
     "output_type": "stream",
     "text": [
      "test_MSIs_6_partial\n",
      "size: 6: 4111\n",
      "\n",
      "test_MSIs_6_partial_unnormalized\n",
      "size: 6: 10648\n",
      "unnormalized: 6: 9309\n"
     ]
    }
   ],
   "source": [
    "ks = [a+b for a in [0, 30] for b in [0, 1, 2, 3, 4, 5, 6, 7, 8, 10, 15]]\n",
    "ls = [30, 31, 32, 33, 35, 36, 40, 45]\n",
    "f = lambda _: ks\n",
    "print('test_MSIs_6_partial')\n",
    "test_MSIs_6_partial = test_set([6], f, g, f, print_stats=True)\n",
    "print('\\ntest_MSIs_6_partial_unnormalized')\n",
    "test_MSIs_6_partial_unnormalized = test_set([6], f, f, f, only_normal=False, print_stats=True)"
   ]
  },
  {
   "cell_type": "code",
   "execution_count": 16,
   "metadata": {},
   "outputs": [
    {
     "name": "stdout",
     "output_type": "stream",
     "text": [
      "test_MSIs_8_partial\n",
      "size: 8: 2438\n",
      "\n",
      "test_MSIs_8_partial_unnormalized\n",
      "size: 8: 10647\n",
      "unnormalized: 8: 9705\n"
     ]
    }
   ],
   "source": [
    "ks = [a+b for a in [0, 30, 60] for b in [0, 1, 2, 3, 4, 5, 6, 7, 8, 9, 10, 15, 25]]\n",
    "ls = [0, 2, 3, 5, 6, 10, 15]\n",
    "f = lambda n: takewhile(lambda k: k < 2**n, ks)\n",
    "g = lambda n: (((15 if 2**n < 30 else 45) + 15 + a) % 2**n for a in ls)\n",
    "print('test_MSIs_8_partial')\n",
    "test_MSIs_8_partial = test_set([8], f, g, f, print_stats=True)\n",
    "print('\\ntest_MSIs_8_partial_unnormalized')\n",
    "test_MSIs_8_partial_unnormalized = test_set([8], f, g, f, only_normal=False, print_stats=True)"
   ]
  },
  {
   "cell_type": "code",
   "execution_count": 17,
   "metadata": {},
   "outputs": [
    {
     "name": "stdout",
     "output_type": "stream",
     "text": [
      "test_MSIs_random\n",
      "size: 5: 178, 6: 280, 7: 316, 8: 313\n",
      "\n",
      "test_MSIs_random_unnormalized\n",
      "size: 5: 254, 6: 441, 7: 474, 8: 499\n",
      "unnormalized: 5: 207, 6: 396, 7: 439, 8: 471\n"
     ]
    }
   ],
   "source": [
    "f = lambda n: set(randint(0, 2**n-1) for _ in range(8))\n",
    "g = lambda n: set(randint(0, 2**(n-1)-1) for _ in range(8))\n",
    "print('test_MSIs_random')\n",
    "test_MSIs_random = test_set(range(5, 8+1), f, f, g, print_stats=True)\n",
    "print('\\ntest_MSIs_random_unnormalized')\n",
    "test_MSIs_random_unnormalized = test_set(range(5, 8+1), f, f, g, only_normal=False, print_stats=True)"
   ]
  },
  {
   "cell_type": "code",
   "execution_count": 18,
   "metadata": {},
   "outputs": [],
   "source": [
    "def _unary_function_test(f, p, test_MSIs, test_count=0, fail_count=0, fail_lim=8):\n",
    "    for n, js in test_MSIs.items():\n",
    "        print(f'    testing bit width: {n}')\n",
    "        for i in js:\n",
    "            test_count += 1\n",
    "            x = f(i)\n",
    "            if not p(n, i, x):\n",
    "                fail_count += 1\n",
    "                print(f'        {i}: {x}')\n",
    "                if fail_count == fail_lim:\n",
    "                    return test_count, fail_count\n",
    "            if test_count % 25000 == 0:\n",
    "                print(f'- tested {test_count} arguments')\n",
    "    return test_count, fail_count\n",
    "\n",
    "def unary_function_test(f, p, big=False, unnormalized=False):\n",
    "    fail_lim = 16 if big else 8\n",
    "    test_count = fail_count = 0\n",
    "    print('testing MSIs with bit width up to 4 exhaustively')\n",
    "    MSIs = test_MSIs_4_exhaustive_unnormalized if unnormalized else test_MSIs_4_exhaustive\n",
    "    test_count, fail_count = _unary_function_test(f, p, MSIs, test_count, fail_count, fail_lim)\n",
    "    if fail_count == fail_lim:\n",
    "        return\n",
    "    print('testing random MSIs with bit width from 5 to 8')\n",
    "    MSIs = test_MSIs_random_unnormalized if unnormalized else test_MSIs_random\n",
    "    test_count, fail_count = _unary_function_test(f, p, MSIs, test_count, fail_count, fail_lim)\n",
    "    if fail_count == fail_lim:\n",
    "        return\n",
    "    if big:\n",
    "        print('testing some MSIs with bit width 6')\n",
    "        MSIs = test_MSIs_6_partial_unnormalized if unnormalized else test_MSIs_6_partial\n",
    "        test_count, fail_count = _unary_function_test(f, p, MSIs, test_count, fail_count, fail_lim)\n",
    "        if fail_count == fail_lim:\n",
    "            return\n",
    "        print('testing some MSIs with bit width 8')\n",
    "        MSIs = test_MSIs_8_partial_unnormalized if unnormalized else test_MSIs_8_partial\n",
    "        test_count, fail_count = _unary_function_test(f, p, MSIs, test_count, fail_count, fail_lim)\n",
    "        if fail_count == fail_lim:\n",
    "            return\n",
    "    if fail_count == 0:\n",
    "        print(f'succeeded (tested {test_count} arguments in total)')"
   ]
  },
  {
   "cell_type": "code",
   "execution_count": 19,
   "metadata": {},
   "outputs": [],
   "source": [
    "def _bin_fun_test(f, p, test_MSIs, test_count=0, fail_count=0, fail_lim=8):\n",
    "    for n, js in test_MSIs.items():\n",
    "        print(f'    testing bit width: {n}')\n",
    "        for i in js:\n",
    "            for j in js:\n",
    "                test_count += 1\n",
    "                x = f(i, j)\n",
    "                if not p(n, i, j, x):\n",
    "                    fail_count += 1\n",
    "                    print(f'        f {i} {j}: {x}')\n",
    "                    if fail_count == fail_lim:\n",
    "                        return test_count, fail_count\n",
    "                if test_count % 25000 == 0:\n",
    "                    print(f'- tested {test_count} arguments')\n",
    "    return test_count, fail_count\n",
    "\n",
    "def bin_fun_test(f, p, big=False, non_zero=False):\n",
    "    fail_lim = 16 if big else 8\n",
    "    test_count = fail_count = 0\n",
    "    print('testing MSIs with bit width up to 4 exhaustively')\n",
    "    test_count, fail_count = _bin_fun_test(f, p, test_MSIs_4_exhaustive, test_count, fail_count, fail_lim)\n",
    "    if fail_count == fail_lim:\n",
    "        return\n",
    "    print('testing random MSIs with bit width from 5 to 8')\n",
    "    test_count, fail_count = _bin_fun_test(f, p, test_MSIs_random, test_count, fail_count, fail_lim)\n",
    "    if fail_count == fail_lim:\n",
    "        return\n",
    "    if big:\n",
    "        print('testing some MSIs with bit width 6')\n",
    "        test_count, fail_count = _bin_fun_test(f, p, test_MSIs_6_partial, test_count, fail_count, fail_lim)\n",
    "        if fail_count == fail_lim:\n",
    "            return\n",
    "        print('testing some MSIs with bit width 8')\n",
    "        test_count, fail_count = _bin_fun_test(f, p, test_MSIs_8_partial, test_count, fail_count, fail_lim)\n",
    "        if fail_count == fail_lim:\n",
    "            return\n",
    "    if fail_count == 0:\n",
    "        print(f'succeeded (tested {test_count} arguments in total)')"
   ]
  },
  {
   "cell_type": "code",
   "execution_count": 104,
   "metadata": {},
   "outputs": [],
   "source": [
    "def _bin_op_test(op_MSI, op, test_MSIs, test_count=0, fail_count=0, fail_lim=8, bad_args={}, bad_lim=8, non_zero=False):\n",
    "    bad_precision = max(bad_args.values()) if len(bad_args) > 0 else 1\n",
    "    for n, js in test_MSIs.items():\n",
    "        print(f'    testing bit width: {n}')\n",
    "        for i in js:\n",
    "            vals_i = gamma(i)\n",
    "            for j in js:\n",
    "                test_count += 1\n",
    "                vals_j = gamma(j)\n",
    "                if non_zero and 0 in vals_j:\n",
    "                    vals_op = {op(n, k, l) for k in vals_i for l in vals_j if not l == 0}\n",
    "                else:\n",
    "                    vals_op = {op(n, k, l) for k in vals_i for l in vals_j}\n",
    "                vals_op_MSI = gamma(op_MSI(i, j))\n",
    "                if not vals_op <= vals_op_MSI:\n",
    "                    fail_count += 1\n",
    "                    print(f'        {i} op {j}: {op_MSI(i, j)}')\n",
    "                    if fail_count == fail_lim:\n",
    "                        return test_count, fail_count, bad_args\n",
    "                elif not len(vals_op) == 0:\n",
    "                    precision = len(vals_op) / (len(vals_op_MSI) * 2**n)\n",
    "                    if precision < bad_precision:\n",
    "                        if len(bad_args) == bad_lim:\n",
    "                            bad_args.pop(list(bad_args.keys())[list(bad_args.values()).index(bad_precision)])\n",
    "                        bad_args[(i, j)] = precision\n",
    "                        bad_precision = max(bad_args.values())\n",
    "                if test_count % 25000 == 0:\n",
    "                    print(f'- tested {test_count} arguments')\n",
    "    return test_count, fail_count, bad_args\n",
    "\n",
    "def bin_op_test(op_MSI, op, big=False, non_zero=False):\n",
    "    fail_lim = bad_lim = 16 if big else 8\n",
    "    test_count = fail_count = 0\n",
    "    bad_args = {}\n",
    "    print('testing MSIs with bit width up to 4 exhaustively')\n",
    "    test_count, fail_count, bad_args = _bin_op_test(op_MSI, op, test_MSIs_4_exhaustive, test_count, fail_count, fail_lim, bad_args, bad_lim, non_zero=non_zero)\n",
    "    if fail_count == fail_lim:\n",
    "        return\n",
    "    print('testing random MSIs with bit width from 5 to 8')\n",
    "    test_count, fail_count, bad_args = _bin_op_test(op_MSI, op, test_MSIs_random, test_count, fail_count, fail_lim, bad_args, bad_lim, non_zero=non_zero)\n",
    "    if fail_count == fail_lim:\n",
    "        return\n",
    "    if big:\n",
    "        print('testing some MSIs with bit width 6')\n",
    "        test_count, fail_count, bad_args = _bin_op_test(op_MSI, op, test_MSIs_6_partial, test_count, fail_count, fail_lim, bad_args, bad_lim, non_zero=non_zero)\n",
    "        if fail_count == fail_lim:\n",
    "            return\n",
    "        print('testing some MSIs with bit width 8')\n",
    "        test_count, fail_count, bad_args = _bin_op_test(op_MSI, op, test_MSIs_8_partial, test_count, fail_count, fail_lim, bad_args, bad_lim, non_zero=non_zero)\n",
    "        if fail_count == fail_lim:\n",
    "            return\n",
    "    if fail_count == 0:\n",
    "        print(f'succeeded (tested {test_count} arguments in total)')\n",
    "        print('arguments with least precise results:')\n",
    "        for (i, j), r in bad_args.items():\n",
    "            print(f'{i}, {j}: {r}')"
   ]
  },
  {
   "cell_type": "code",
   "execution_count": 21,
   "metadata": {},
   "outputs": [],
   "source": [
    "def _bin_rel_test(rel_MSI, rel, test_MSIs, test_count=0, fail_count=0, fail_lim=8):\n",
    "    for n, js in test_MSIs.items():\n",
    "        print(f'    testing bit width: {n}')\n",
    "        for i in js:\n",
    "            for j in js:\n",
    "                test_count += 1\n",
    "                if not (rel_MSI(i, j) == rel(i, j)):\n",
    "                    fail_count += 1\n",
    "                    print(f'        {i} rel {j}: {rel_MSI(i, j)}')\n",
    "                    if fail_count == fail_lim:\n",
    "                        return test_count, fail_count\n",
    "                if test_count % 25000 == 0:\n",
    "                    print(f'- tested {test_count} arguments')\n",
    "    return test_count, fail_count\n",
    "\n",
    "def bin_rel_test(rel_MSI, rel, big=False):\n",
    "    fail_lim = 16 if big else 8\n",
    "    test_count = fail_count = 0\n",
    "    print('testing MSIs with bit width up to 4 exhaustively')\n",
    "    test_count, fail_count = _bin_rel_test(rel_MSI, rel, test_MSIs_4_exhaustive, test_count, fail_count, fail_lim)\n",
    "    if fail_count == fail_lim:\n",
    "        return\n",
    "    print('testing random MSIs with bit width from 5 to 8')\n",
    "    test_count, fail_count = _bin_rel_test(rel_MSI, rel, test_MSIs_random, test_count, fail_count, fail_lim)\n",
    "    if fail_count == fail_lim:\n",
    "        return\n",
    "    if big:\n",
    "        print('testing some MSIs with bit width 6')\n",
    "        test_count, fail_count = _bin_rel_test(rel_MSI, rel, test_MSIs_6_partial, test_count, fail_count, fail_lim)\n",
    "        if fail_count == fail_lim:\n",
    "            return\n",
    "        print('testing some MSIs with bit width 8')\n",
    "        test_count, fail_count = _bin_rel_test(rel_MSI, rel, test_MSIs_8_partial, test_count, fail_count, fail_lim)\n",
    "        if fail_count == fail_lim:\n",
    "            return\n",
    "    if fail_count == 0:\n",
    "        print(f'succeeded (tested {test_count} arguments in total)')"
   ]
  },
  {
   "cell_type": "markdown",
   "metadata": {},
   "source": [
    "## Test for normal"
   ]
  },
  {
   "cell_type": "code",
   "execution_count": 22,
   "metadata": {},
   "outputs": [],
   "source": [
    "def test_normal():\n",
    "    failed = False\n",
    "    test_count = fail_count = 0\n",
    "    for n, js in test_MSIs_6_exhaustive.items():\n",
    "        equiv_classes = {}\n",
    "        for i in js:\n",
    "            a = frozenset(gamma(i))\n",
    "            if a in equiv_classes:\n",
    "                equiv_classes[a].add(i)\n",
    "            else:\n",
    "                equiv_classes[a] = {i}\n",
    "        for equiv_class in equiv_classes.values():\n",
    "            norm_forms = list(filter(normal, equiv_class))\n",
    "            test_count += 1\n",
    "            if len(norm_forms) != 1:\n",
    "                failed = True\n",
    "                fail_count += 1\n",
    "                if len(norm_forms) == 0:\n",
    "                    print(f'no normal form for {equiv_class}')\n",
    "                else:\n",
    "                    print(f'multiple normal forms {norm_forms}')\n",
    "                if fail_count > 8:\n",
    "                    return\n",
    "    print(f'succeeded (tested {test_count} equivalence classes in total)')"
   ]
  },
  {
   "cell_type": "code",
   "execution_count": 23,
   "metadata": {},
   "outputs": [
    {
     "name": "stdout",
     "output_type": "stream",
     "text": [
      "succeeded (tested 18958 equivalence classes in total)\n"
     ]
    }
   ],
   "source": [
    "test_normal()"
   ]
  },
  {
   "cell_type": "markdown",
   "metadata": {},
   "source": [
    "## Helper functions"
   ]
  },
  {
   "cell_type": "code",
   "execution_count": 24,
   "metadata": {},
   "outputs": [],
   "source": [
    "def bounds(i):\n",
    "    n, a, b, _ = i._tuple_repr()\n",
    "    if a <= b:\n",
    "        return a, b, False\n",
    "    else:\n",
    "        return a, b + 2**n, True"
   ]
  },
  {
   "cell_type": "code",
   "execution_count": 25,
   "metadata": {},
   "outputs": [],
   "source": [
    "def contains(i, k):\n",
    "    n, a, b, s = i._tuple_repr()\n",
    "    if s == 0:\n",
    "        return a == k\n",
    "    elif a <= b:\n",
    "        return a <= k and k <= b and (k - a) % s == 0\n",
    "    else:\n",
    "        if k >= a:\n",
    "            return (k - a) % s == 0\n",
    "        elif k <= b:\n",
    "            return (k - b) % s == 0\n",
    "        else:\n",
    "            return False"
   ]
  },
  {
   "cell_type": "code",
   "execution_count": 26,
   "metadata": {},
   "outputs": [],
   "source": [
    "def test_contains():\n",
    "    failed = False\n",
    "    test_count = fail_count = 0\n",
    "    for n, js in test_MSIs_6_exhaustive.items():\n",
    "        for i in js:\n",
    "            test_count += 1\n",
    "            a = gamma(i)\n",
    "            for k in range(2**n):\n",
    "                if k in a and not contains(i, k):\n",
    "                    failed = True\n",
    "                    fail_count += 1\n",
    "                    print(f'{k} in gamma({i})')\n",
    "                if k not in a and contains(i, k):\n",
    "                    failed = True\n",
    "                    fail_count += 1\n",
    "                    print(f'{k} not in gamma({i})')\n",
    "                if fail_count > 8:\n",
    "                    return\n",
    "    print(f'succeeded (tested {test_count} arguments)')"
   ]
  },
  {
   "cell_type": "code",
   "execution_count": 27,
   "metadata": {},
   "outputs": [
    {
     "name": "stdout",
     "output_type": "stream",
     "text": [
      "succeeded (tested 18958 arguments)\n"
     ]
    }
   ],
   "source": [
    "test_contains()"
   ]
  },
  {
   "cell_type": "code",
   "execution_count": 28,
   "metadata": {},
   "outputs": [],
   "source": [
    "def leq_MSI(i, j, debug=False):\n",
    "    n, a, b, s = i._tuple_repr()\n",
    "    m, c, d, t = j._tuple_repr()\n",
    "    assert n == m, 'strides must be equal'\n",
    "    if s == 0: # i contains exactly 1 value\n",
    "        return contains(j, a)\n",
    "    elif t == 0: # j contains exactly 1 value\n",
    "        return False\n",
    "    elif b == (a+s) % 2**n: # i contains exactly 2 values\n",
    "        return contains(j, a) and contains(j, b)\n",
    "    elif s % t == 0:\n",
    "        if 2**n % t == 0 and (c-d) % 2**n == t: # j represents a residue class of Z/t (=> t | 2**n)\n",
    "            return (a-c) % t == 0\n",
    "        else:\n",
    "            b_ = (b-a) % 2**n\n",
    "            c_, d_ = (c-a) % 2**n, (d-a) % 2**n\n",
    "            if d_ < c_ and c_ <= b_: # this branch may not return, but continue below [a...d_...c_...b_...]\n",
    "                e_ = s * (d_ // s)\n",
    "                f_ = (b_ - s * ((b_-c_) // s)) % s**n\n",
    "                if (f_-e_) == s:\n",
    "                    if e_ < s:\n",
    "                        if contains(j, a) and c_ % t == 0:\n",
    "                            return True\n",
    "                    elif contains(j, b) and d_ % t == 0:\n",
    "                        return True\n",
    "            if c_ <= d_:\n",
    "                return c_ == 0 and b_ <= d_\n",
    "            else:\n",
    "                return b_ <= d_ and (d_-b_) % t == 0\n",
    "    else:\n",
    "        return False"
   ]
  },
  {
   "cell_type": "code",
   "execution_count": 30,
   "metadata": {},
   "outputs": [
    {
     "name": "stdout",
     "output_type": "stream",
     "text": [
      "testing MSIs with bit width up to 4 exhaustively\n",
      "    testing bit width: 1\n",
      "    testing bit width: 2\n",
      "    testing bit width: 3\n",
      "    testing bit width: 4\n",
      "- tested 25000 arguments\n",
      "- tested 50000 arguments\n",
      "- tested 75000 arguments\n",
      "- tested 100000 arguments\n",
      "- tested 125000 arguments\n",
      "- tested 150000 arguments\n",
      "- tested 175000 arguments\n",
      "- tested 200000 arguments\n",
      "- tested 225000 arguments\n",
      "- tested 250000 arguments\n",
      "- tested 275000 arguments\n",
      "- tested 300000 arguments\n",
      "- tested 325000 arguments\n",
      "testing random MSIs with bit width from 5 to 8\n",
      "    testing bit width: 5\n",
      "- tested 350000 arguments\n",
      "    testing bit width: 6\n",
      "- tested 375000 arguments\n",
      "- tested 400000 arguments\n",
      "- tested 425000 arguments\n",
      "- tested 450000 arguments\n",
      "    testing bit width: 7\n",
      "- tested 475000 arguments\n",
      "- tested 500000 arguments\n",
      "- tested 525000 arguments\n",
      "    testing bit width: 8\n",
      "- tested 550000 arguments\n",
      "- tested 575000 arguments\n",
      "- tested 600000 arguments\n",
      "- tested 625000 arguments\n",
      "- tested 650000 arguments\n",
      "- tested 675000 arguments\n",
      "succeeded (tested 684701 arguments in total)\n"
     ]
    }
   ],
   "source": [
    "bin_rel_test(leq_MSI, lambda i, j: gamma(i) <= gamma(j))"
   ]
  },
  {
   "cell_type": "code",
   "execution_count": 29,
   "metadata": {},
   "outputs": [],
   "source": [
    "def append(xs, x):\n",
    "    xs.append(x)\n",
    "    return True"
   ]
  },
  {
   "cell_type": "code",
   "execution_count": 30,
   "metadata": {},
   "outputs": [],
   "source": [
    "def add_case(cases, path, ex):\n",
    "    if cases is None:\n",
    "        if len(path) == 0:\n",
    "            return (True, True, ex)\n",
    "        else:\n",
    "            return (False, False, {path[0]: add_case(None, path[1:], ex), not path[0]: None})\n",
    "    else:\n",
    "        fin0, a0, cs0 = cases\n",
    "        if fin0:\n",
    "            return cases\n",
    "        else:\n",
    "            b = path[0]\n",
    "            fin1, a1, cs1 = add_case(cs0[b], path[1:], ex)\n",
    "            fin = cs0[not b] is not None and cs0[not b][0] and fin1\n",
    "            return (fin, a0, {b: (fin1, a1, cs1), not b: cs0[not b]})"
   ]
  },
  {
   "cell_type": "code",
   "execution_count": 31,
   "metadata": {},
   "outputs": [],
   "source": [
    "def gen_leq_test_cases():\n",
    "    cases = None\n",
    "    for n in range(1, 4+1):\n",
    "        for i in test_MSIs_6_exhaustive[n]:\n",
    "            for j in test_MSIs_6_exhaustive[n]:\n",
    "                _, path = leq_MSI_path(i, j)\n",
    "                cases = add_case(cases, path, (i, j))\n",
    "                if cases[0]:\n",
    "                    return cases\n",
    "    return cases"
   ]
  },
  {
   "cell_type": "code",
   "execution_count": 32,
   "metadata": {},
   "outputs": [],
   "source": [
    "def get_cases(cases):\n",
    "    if cases is None:\n",
    "        return []\n",
    "    elif cases[1]:\n",
    "        return [cases[2]]\n",
    "    else:\n",
    "        return get_cases(cases[2][True]) + get_cases(cases[2][False])"
   ]
  },
  {
   "cell_type": "code",
   "execution_count": 33,
   "metadata": {},
   "outputs": [],
   "source": [
    "def find_unreachable_pathes(cases):\n",
    "    if cases is None:\n",
    "        return [p]\n",
    "    elif cases[0]:\n",
    "        return []\n",
    "    r = []\n",
    "    for b in [True, False]:\n",
    "        if cases[2][b] is None:\n",
    "            r += [[b]]\n",
    "        else:\n",
    "            r += [[b]+p for p in find_unreachable_pathes(cases[2][b])]\n",
    "    return r"
   ]
  },
  {
   "cell_type": "code",
   "execution_count": 34,
   "metadata": {},
   "outputs": [
    {
     "name": "stdout",
     "output_type": "stream",
     "text": [
      "3[2, 0]_{3} leq 3[5, 3]_{3} = False\n",
      "{0, 2, 5} leq {0, 3, 5} = False\n"
     ]
    },
    {
     "data": {
      "text/plain": [
       "False"
      ]
     },
     "execution_count": 34,
     "metadata": {},
     "output_type": "execute_result"
    }
   ],
   "source": [
    "lhs = MSI(3, 2, 0, 3)\n",
    "rhs = MSI(3, 5, 3, 3)\n",
    "res = leq_MSI(lhs, rhs)\n",
    "print(f'{lhs} leq {rhs} = {res}')\n",
    "print(f'{gamma(lhs)} leq {gamma(rhs)} = {gamma(lhs) <= gamma(rhs)}')\n",
    "leq_MSI(lhs, rhs, debug=True)"
   ]
  },
  {
   "cell_type": "code",
   "execution_count": 35,
   "metadata": {},
   "outputs": [],
   "source": [
    "def size(i):\n",
    "    n, a, b, s = i._tuple_repr()\n",
    "    if s == 0:\n",
    "        return 1\n",
    "    else:\n",
    "        return ((b-a) % 2**n) // s + 1"
   ]
  },
  {
   "cell_type": "code",
   "execution_count": 36,
   "metadata": {},
   "outputs": [
    {
     "name": "stdout",
     "output_type": "stream",
     "text": [
      "testing MSIs with bit width up to 4 exhaustively\n",
      "    testing bit width: 1\n",
      "    testing bit width: 2\n",
      "    testing bit width: 3\n",
      "    testing bit width: 4\n",
      "testing random MSIs with bit width from 5 to 8\n",
      "    testing bit width: 5\n",
      "    testing bit width: 6\n",
      "    testing bit width: 7\n",
      "    testing bit width: 8\n",
      "testing some MSIs with bit width 6\n",
      "    testing bit width: 6\n",
      "testing some MSIs with bit width 8\n",
      "    testing bit width: 8\n",
      "succeeded (tested 8324 arguments in total)\n"
     ]
    }
   ],
   "source": [
    "unary_function_test(size, lambda n, i, s: s == len(gamma(i)), big=True)"
   ]
  },
  {
   "cell_type": "code",
   "execution_count": 37,
   "metadata": {},
   "outputs": [],
   "source": [
    "def lub(i, j, debug=False):\n",
    "    n, a, b, s = i._tuple_repr()\n",
    "    m, c, d, t = j._tuple_repr()\n",
    "    assert n == m, 'strides must be equal'\n",
    "    b_ = (b-a) % 2**n\n",
    "    c_, d_ = (c-a) % 2**n, (d-a) % 2**n\n",
    "    if (b_ < c_ and c_ < d_): # no overlapping regions\n",
    "        if debug:\n",
    "            print(f'case 0: b_: {b_}, c_: {c_}, d_: {d_}')\n",
    "        u1 = int(gcd(gcd(s, t), (c-b) % 2**n))\n",
    "        e1, f1 = a, d\n",
    "        u2 = int(gcd(gcd(s, t), (a-d) % 2**n))\n",
    "        e2, f2 = c, b\n",
    "        opt1 = normalize(MSI(n, e1, f1, u1))\n",
    "        opt2 = normalize(MSI(n, e2, f2, u2))\n",
    "        if debug:\n",
    "            print(f'opt2: {opt2}, opt1: {opt1}')\n",
    "        if (size(opt1) < size(opt2)):\n",
    "            return opt1\n",
    "        else:\n",
    "            return opt2\n",
    "    elif d_ < c_ and c_ <= b_: # two overlapping regions\n",
    "        if debug:\n",
    "            print(f'case 1: b_: {b_}, c_: {c_}, d_: {d_}')\n",
    "        u = int(gcd(gcd(s, t), gcd(c_ if c_ <= d_ else d_, 2**(n-1))))\n",
    "        e = a % u\n",
    "        f = (e - u) % 2**n\n",
    "        return normalize(MSI(n, e, f, u))\n",
    "    else: # one overlapping region\n",
    "        if debug:\n",
    "            print(f'case 2: b_: {b_}, c_: {c_}, d_: {d_}')\n",
    "        e = a if c_ <= d_ else c\n",
    "        f = b if d_ < b_ else d\n",
    "        u = int(gcd(gcd(s, t), (c_ if c_ <= d_ else d_)))\n",
    "        return normalize(MSI(n, e, f, u))"
   ]
  },
  {
   "cell_type": "code",
   "execution_count": 38,
   "metadata": {},
   "outputs": [
    {
     "name": "stdout",
     "output_type": "stream",
     "text": [
      "3[2, 0]_{3}, 3[4, 2]_{3}: {0, 2, 5}, {2, 4, 7}\n",
      "case 1: b_: 6, c_: 2, d_: 0\n",
      "1[0, 7]_{3}: {0, 1, 2, 3, 4, 5, 6, 7}\n"
     ]
    }
   ],
   "source": [
    "lhs, rhs = MSI(3, 2, 0, 3), MSI(3, 4, 2, 3)\n",
    "print(f'{lhs}, {rhs}: {gamma(lhs)}, {gamma(rhs)}')\n",
    "res = lub(lhs, rhs, debug=True)\n",
    "print(f'{res}: {gamma(res)}')"
   ]
  },
  {
   "cell_type": "code",
   "execution_count": 39,
   "metadata": {},
   "outputs": [
    {
     "data": {
      "text/plain": [
       "2[1, 63]_{6}"
      ]
     },
     "execution_count": 39,
     "metadata": {},
     "output_type": "execute_result"
    }
   ],
   "source": [
    "lub(MSI(6, 1, 37, 6), MSI(6, 31, 7, 6))"
   ]
  },
  {
   "cell_type": "code",
   "execution_count": 221,
   "metadata": {},
   "outputs": [
    {
     "name": "stdout",
     "output_type": "stream",
     "text": [
      "testing MSIs with bit width up to 4 exhaustively\n",
      "    testing bit width: 1\n",
      "    testing bit width: 2\n",
      "    testing bit width: 3\n",
      "    testing bit width: 4\n",
      "- tested 25000 arguments\n",
      "- tested 50000 arguments\n",
      "- tested 75000 arguments\n",
      "- tested 100000 arguments\n",
      "- tested 125000 arguments\n",
      "- tested 150000 arguments\n",
      "- tested 175000 arguments\n",
      "- tested 200000 arguments\n",
      "- tested 225000 arguments\n",
      "- tested 250000 arguments\n",
      "- tested 275000 arguments\n",
      "- tested 300000 arguments\n",
      "- tested 325000 arguments\n",
      "testing random MSIs with bit width from 5 to 8\n",
      "    testing bit width: 5\n",
      "- tested 350000 arguments\n",
      "    testing bit width: 6\n",
      "- tested 375000 arguments\n",
      "- tested 400000 arguments\n",
      "- tested 425000 arguments\n",
      "- tested 450000 arguments\n",
      "    testing bit width: 7\n",
      "- tested 475000 arguments\n",
      "- tested 500000 arguments\n",
      "- tested 525000 arguments\n",
      "    testing bit width: 8\n",
      "- tested 550000 arguments\n",
      "- tested 575000 arguments\n",
      "- tested 600000 arguments\n",
      "- tested 625000 arguments\n",
      "- tested 650000 arguments\n",
      "- tested 675000 arguments\n",
      "succeeded (tested 684701 arguments in total)\n"
     ]
    }
   ],
   "source": [
    "bin_fun_test(lub, lambda n, i, j, x: gamma(i) | gamma(j) <= gamma(x))"
   ]
  },
  {
   "cell_type": "code",
   "execution_count": 91,
   "metadata": {},
   "outputs": [],
   "source": [
    "def as_signed_int(n, k):\n",
    "    return k if k < 2**(n-1) else k - 2**n"
   ]
  },
  {
   "cell_type": "code",
   "execution_count": 40,
   "metadata": {},
   "outputs": [],
   "source": [
    "def umax_MSI(i):\n",
    "    n, a, b, s = i._tuple_repr()\n",
    "    if a <= b:\n",
    "        return b\n",
    "    else:\n",
    "        return 2**n - 1 - ((2**n - 1 - a) % s)"
   ]
  },
  {
   "cell_type": "code",
   "execution_count": 41,
   "metadata": {},
   "outputs": [],
   "source": [
    "def umin_MSI(i):\n",
    "    n, a, b, s = i._tuple_repr()\n",
    "    if a <= b:\n",
    "        return a\n",
    "    else:\n",
    "        return b % s"
   ]
  },
  {
   "cell_type": "code",
   "execution_count": 92,
   "metadata": {},
   "outputs": [],
   "source": [
    "def smax_MSI(i):\n",
    "    n, a, b, s = i._tuple_repr()\n",
    "    a, b = as_signed_int(n, a), as_signed_int(n, b)\n",
    "    if a <= b:\n",
    "        return b % 2**n\n",
    "    else:\n",
    "        return 2**(n-1) - 1 - ((2**(n-1) - 1 - a) % s)"
   ]
  },
  {
   "cell_type": "code",
   "execution_count": 93,
   "metadata": {},
   "outputs": [],
   "source": [
    "def smin_MSI(i):\n",
    "    n, a, b, s = i._tuple_repr()\n",
    "    a, b = as_signed_int(n, a), as_signed_int(n, b)\n",
    "    if a <= b:\n",
    "        return a % 2**n\n",
    "    else:\n",
    "        return (((b + 2**(n-1)) % s) - 2**(n-1)) % 2**n"
   ]
  },
  {
   "cell_type": "code",
   "execution_count": 99,
   "metadata": {},
   "outputs": [],
   "source": [
    "def ustride(i):\n",
    "    n, a, b, s = i._tuple_repr()\n",
    "    if a <= b:\n",
    "        return s\n",
    "    else:\n",
    "        return int(gcd(s, a-b))"
   ]
  },
  {
   "cell_type": "code",
   "execution_count": 94,
   "metadata": {},
   "outputs": [
    {
     "name": "stdout",
     "output_type": "stream",
     "text": [
      "77 93\n",
      "-51 -35\n"
     ]
    },
    {
     "data": {
      "text/plain": [
       "4[13, 29]_{6}"
      ]
     },
     "execution_count": 94,
     "metadata": {},
     "output_type": "execute_result"
    }
   ],
   "source": [
    "lhs = MSI(6, 35, 43, 4)\n",
    "rhs = MSI(6, 42, 50, 4)\n",
    "print(umin_MSI(lhs)+umin_MSI(rhs), umax_MSI(lhs)+umax_MSI(rhs))\n",
    "print(as_signed_int(6, smin_MSI(lhs))+as_signed_int(6, smin_MSI(rhs)), as_signed_int(6, smax_MSI(lhs))+as_signed_int(6, smax_MSI(rhs)))\n",
    "add(lhs, rhs)"
   ]
  },
  {
   "cell_type": "code",
   "execution_count": 95,
   "metadata": {},
   "outputs": [
    {
     "name": "stdout",
     "output_type": "stream",
     "text": [
      "testing MSIs with bit width up to 4 exhaustively\n",
      "    testing bit width: 1\n",
      "    testing bit width: 2\n",
      "    testing bit width: 3\n",
      "    testing bit width: 4\n",
      "testing random MSIs with bit width from 5 to 8\n",
      "    testing bit width: 5\n",
      "    testing bit width: 6\n",
      "    testing bit width: 7\n",
      "    testing bit width: 8\n",
      "testing some MSIs with bit width 6\n",
      "    testing bit width: 6\n",
      "testing some MSIs with bit width 8\n",
      "    testing bit width: 8\n",
      "succeeded (tested 8324 arguments in total)\n"
     ]
    }
   ],
   "source": [
    "unary_function_test(umax_MSI, lambda n, i, k: max(gamma(i)) == k, big=True)"
   ]
  },
  {
   "cell_type": "code",
   "execution_count": 96,
   "metadata": {},
   "outputs": [
    {
     "name": "stdout",
     "output_type": "stream",
     "text": [
      "testing MSIs with bit width up to 4 exhaustively\n",
      "    testing bit width: 1\n",
      "    testing bit width: 2\n",
      "    testing bit width: 3\n",
      "    testing bit width: 4\n",
      "testing random MSIs with bit width from 5 to 8\n",
      "    testing bit width: 5\n",
      "    testing bit width: 6\n",
      "    testing bit width: 7\n",
      "    testing bit width: 8\n",
      "testing some MSIs with bit width 6\n",
      "    testing bit width: 6\n",
      "testing some MSIs with bit width 8\n",
      "    testing bit width: 8\n",
      "succeeded (tested 8324 arguments in total)\n"
     ]
    }
   ],
   "source": [
    "unary_function_test(umin_MSI, lambda n, i, k: min(gamma(i)) == k, big=True)"
   ]
  },
  {
   "cell_type": "code",
   "execution_count": 97,
   "metadata": {},
   "outputs": [
    {
     "name": "stdout",
     "output_type": "stream",
     "text": [
      "testing MSIs with bit width up to 4 exhaustively\n",
      "    testing bit width: 1\n",
      "    testing bit width: 2\n",
      "    testing bit width: 3\n",
      "    testing bit width: 4\n",
      "testing random MSIs with bit width from 5 to 8\n",
      "    testing bit width: 5\n",
      "    testing bit width: 6\n",
      "    testing bit width: 7\n",
      "    testing bit width: 8\n",
      "testing some MSIs with bit width 6\n",
      "    testing bit width: 6\n",
      "testing some MSIs with bit width 8\n",
      "    testing bit width: 8\n",
      "succeeded (tested 8324 arguments in total)\n"
     ]
    }
   ],
   "source": [
    "unary_function_test(smax_MSI, lambda n, i, k: max(map(lambda k: as_signed_int(n, k), gamma(i))) % 2**n == k, big=True)"
   ]
  },
  {
   "cell_type": "code",
   "execution_count": 98,
   "metadata": {},
   "outputs": [
    {
     "name": "stdout",
     "output_type": "stream",
     "text": [
      "testing MSIs with bit width up to 4 exhaustively\n",
      "    testing bit width: 1\n",
      "    testing bit width: 2\n",
      "    testing bit width: 3\n",
      "    testing bit width: 4\n",
      "testing random MSIs with bit width from 5 to 8\n",
      "    testing bit width: 5\n",
      "    testing bit width: 6\n",
      "    testing bit width: 7\n",
      "    testing bit width: 8\n",
      "testing some MSIs with bit width 6\n",
      "    testing bit width: 6\n",
      "testing some MSIs with bit width 8\n",
      "    testing bit width: 8\n",
      "succeeded (tested 8324 arguments in total)\n"
     ]
    }
   ],
   "source": [
    "unary_function_test(smin_MSI, lambda n, i, k: min(map(lambda k: as_signed_int(n, k), gamma(i))) % 2**n == k, big=True)"
   ]
  },
  {
   "cell_type": "code",
   "execution_count": 45,
   "metadata": {},
   "outputs": [],
   "source": [
    "def as_unsigned(i):\n",
    "    n, a, b, s = i._tuple_repr()\n",
    "    if a <= b:\n",
    "        return MSI(n, a, b, s)\n",
    "    else:\n",
    "        t = int(gcd(s, (a-b) & 2**n))\n",
    "        c = a % t\n",
    "        d = (c-t) % 2**n\n",
    "        return MSI(n, c, d, t)"
   ]
  },
  {
   "cell_type": "markdown",
   "metadata": {},
   "source": [
    "## Implementation of Operations"
   ]
  },
  {
   "cell_type": "code",
   "execution_count": 46,
   "metadata": {},
   "outputs": [],
   "source": [
    "def add(i, j):\n",
    "    n, a, b, s = i._tuple_repr()\n",
    "    m, c, d, t = j._tuple_repr()\n",
    "    assert n == m, 'strides must be equal'\n",
    "    u = int(gcd(s, t))\n",
    "    b_ = b if a <= b else b + 2**n\n",
    "    d_ = d if c <= d else d + 2**n\n",
    "    e, f = a+c, b_+d_\n",
    "    if f-e < 2**n:\n",
    "        u_ = u\n",
    "        e_, f_ = e % 2**n, f % 2**n\n",
    "    else:\n",
    "        u_ = int(gcd(u, 2**n))\n",
    "        e_ = e % 2**n\n",
    "        f_ = (e_-u_) % 2**n\n",
    "    return normalize(MSI(n, e_, f_, u_))"
   ]
  },
  {
   "cell_type": "code",
   "execution_count": 49,
   "metadata": {},
   "outputs": [
    {
     "name": "stdout",
     "output_type": "stream",
     "text": [
      "testing MSIs with bit width up to 4 exhaustively\n",
      "    testing bit width: 1\n",
      "    testing bit width: 2\n",
      "    testing bit width: 3\n",
      "    testing bit width: 4\n",
      "- tested 25000 arguments\n",
      "- tested 50000 arguments\n",
      "- tested 75000 arguments\n",
      "- tested 100000 arguments\n",
      "- tested 125000 arguments\n",
      "- tested 150000 arguments\n",
      "- tested 175000 arguments\n",
      "- tested 200000 arguments\n",
      "- tested 225000 arguments\n",
      "- tested 250000 arguments\n",
      "- tested 275000 arguments\n",
      "- tested 300000 arguments\n",
      "- tested 325000 arguments\n",
      "testing random MSIs with bit width from 5 to 8\n",
      "    testing bit width: 5\n",
      "- tested 350000 arguments\n",
      "    testing bit width: 6\n",
      "- tested 375000 arguments\n",
      "- tested 400000 arguments\n",
      "- tested 425000 arguments\n",
      "- tested 450000 arguments\n",
      "    testing bit width: 7\n",
      "- tested 475000 arguments\n",
      "- tested 500000 arguments\n",
      "- tested 525000 arguments\n",
      "    testing bit width: 8\n",
      "- tested 550000 arguments\n",
      "- tested 575000 arguments\n",
      "- tested 600000 arguments\n",
      "- tested 625000 arguments\n",
      "- tested 650000 arguments\n",
      "- tested 675000 arguments\n",
      "succeeded (tested 684701 arguments in total)\n",
      "arguments with least precise results:\n",
      "133[8, 141]_{8}, 133[8, 141]_{8}: 4.57763671875e-05\n",
      "133[8, 141]_{8}, 123[24, 147]_{8}: 4.57763671875e-05\n",
      "133[8, 141]_{8}, 123[48, 171]_{8}: 4.57763671875e-05\n",
      "123[24, 147]_{8}, 133[8, 141]_{8}: 4.57763671875e-05\n",
      "187[53, 240]_{8}, 187[53, 240]_{8}: 4.57763671875e-05\n",
      "117[56, 173]_{8}, 139[115, 254]_{8}: 4.57763671875e-05\n",
      "117[56, 173]_{8}, 139[101, 240]_{8}: 4.57763671875e-05\n",
      "17[101, 118]_{8}, 239[15, 254]_{8}: 4.57763671875e-05\n"
     ]
    }
   ],
   "source": [
    "bin_op_test(add, lambda n, a, b: (a+b) % 2**n)"
   ]
  },
  {
   "cell_type": "code",
   "execution_count": 47,
   "metadata": {},
   "outputs": [],
   "source": [
    "def sub(i, j):\n",
    "    n, a, b, s = i._tuple_repr()\n",
    "    m, c, d, t = j._tuple_repr()\n",
    "    assert n == m, 'strides must be equal'\n",
    "    u = int(gcd(s, t))\n",
    "    b_ = b if a <= b else b + 2**n\n",
    "    d_ = d if c <= d else d + 2**n\n",
    "    e, f = a-d_, b_-c\n",
    "    if f-e < 2**n:\n",
    "        u_ = u\n",
    "        e_, f_ = e % 2**n, f % 2**n\n",
    "    else:\n",
    "        u_ = int(gcd(u, 2**n))\n",
    "        e_ = e % 2**n\n",
    "        f_ = (e_-u_) % 2**n\n",
    "    return normalize(MSI(n, e_, f_, u_))"
   ]
  },
  {
   "cell_type": "code",
   "execution_count": 56,
   "metadata": {},
   "outputs": [
    {
     "name": "stdout",
     "output_type": "stream",
     "text": [
      "testing MSIs with bit width up to 4 exhaustively\n",
      "    testing bit width: 1\n",
      "    testing bit width: 2\n",
      "    testing bit width: 3\n",
      "    testing bit width: 4\n",
      "- tested 25000 arguments\n",
      "- tested 50000 arguments\n",
      "- tested 75000 arguments\n",
      "- tested 100000 arguments\n",
      "- tested 125000 arguments\n",
      "- tested 150000 arguments\n",
      "- tested 175000 arguments\n",
      "- tested 200000 arguments\n",
      "- tested 225000 arguments\n",
      "- tested 250000 arguments\n",
      "- tested 275000 arguments\n",
      "- tested 300000 arguments\n",
      "- tested 325000 arguments\n",
      "testing random MSIs with bit width from 5 to 8\n",
      "    testing bit width: 5\n",
      "- tested 350000 arguments\n",
      "    testing bit width: 6\n",
      "- tested 375000 arguments\n",
      "- tested 400000 arguments\n",
      "- tested 425000 arguments\n",
      "- tested 450000 arguments\n",
      "    testing bit width: 7\n",
      "- tested 475000 arguments\n",
      "- tested 500000 arguments\n",
      "- tested 525000 arguments\n",
      "    testing bit width: 8\n",
      "- tested 550000 arguments\n",
      "- tested 575000 arguments\n",
      "- tested 600000 arguments\n",
      "- tested 625000 arguments\n",
      "- tested 650000 arguments\n",
      "- tested 675000 arguments\n",
      "succeeded (tested 684701 arguments in total)\n",
      "arguments with least precise results:\n",
      "133[8, 141]_{8}, 133[8, 141]_{8}: 4.57763671875e-05\n",
      "133[8, 141]_{8}, 123[24, 147]_{8}: 4.57763671875e-05\n",
      "133[8, 141]_{8}, 123[48, 171]_{8}: 4.57763671875e-05\n",
      "123[24, 147]_{8}, 133[8, 141]_{8}: 4.57763671875e-05\n",
      "187[53, 240]_{8}, 187[53, 240]_{8}: 4.57763671875e-05\n",
      "117[56, 173]_{8}, 139[115, 254]_{8}: 4.57763671875e-05\n",
      "117[56, 173]_{8}, 139[101, 240]_{8}: 4.57763671875e-05\n",
      "17[101, 118]_{8}, 239[15, 254]_{8}: 4.57763671875e-05\n"
     ]
    }
   ],
   "source": [
    "bin_op_test(sub, lambda n, a, b: (a-b) % 2**n)"
   ]
  },
  {
   "cell_type": "code",
   "execution_count": 48,
   "metadata": {},
   "outputs": [],
   "source": [
    "def mul(i, j, debug=False):\n",
    "    n, a, b, s = i._tuple_repr()\n",
    "    m, c, d, t = j._tuple_repr()\n",
    "    assert n == m, 'strides must be equal'\n",
    "    m = 2**n\n",
    "    u = int(gcd(a, s)) * int(gcd(c, t))\n",
    "    b_ = b if a <= b else b + m\n",
    "    d_ = d if c <= d else d + m\n",
    "    e, f = a*c, b_*d_\n",
    "    if f-e < m:\n",
    "        u_ = u\n",
    "        e_, f_ = e % m, f % m\n",
    "    else:\n",
    "        u_ = int(gcd(u, m))\n",
    "        e_ = e % m\n",
    "        f_  = (e_-u_) % m\n",
    "    if debug:\n",
    "        print(f'u: {u}, e: {e}, f: {f}, u_: {u_}, e_: {e_}, f_: {f_}')\n",
    "    return normalize(MSI(n, e_, f_, u_))"
   ]
  },
  {
   "cell_type": "code",
   "execution_count": 100,
   "metadata": {},
   "outputs": [],
   "source": [
    "def urem(i, j, debug=False):\n",
    "    n, _, _, s = i._tuple_repr()\n",
    "    m, _, _, t = j._tuple_repr()\n",
    "    assert n == m, 'strides must be equal'\n",
    "    a, b = umin_MSI(i), umax_MSI(i)\n",
    "    c, d = umin_MSI(j), umax_MSI(j)\n",
    "    s, t = ustride(i), ustride(j)\n",
    "    if c == 0:\n",
    "        if t == 0:\n",
    "            if debug:\n",
    "                print('case 1')\n",
    "            return MSI(n, 0, (-1) % 2**n, 1)\n",
    "        else:\n",
    "            c = t\n",
    "    if b < c:\n",
    "        if debug:\n",
    "            print('case 2')\n",
    "        return i\n",
    "    elif t == 0:\n",
    "        if a//c == b//c:\n",
    "            if debug:\n",
    "                print('case 3.1')\n",
    "            return normalize(MSI(n, a % c, b % c, s))\n",
    "        else:\n",
    "            if debug:\n",
    "                print('case 3.2')\n",
    "            u = int(gcd(s, c))\n",
    "            return normalize(MSI(n, a % u, c-1, u))\n",
    "    else:\n",
    "        if debug:\n",
    "            print('case 4')\n",
    "        u = int(gcd(gcd(c, t), s))\n",
    "        return normalize(MSI(n, a % u, min(b, d), u))"
   ]
  },
  {
   "cell_type": "code",
   "execution_count": 105,
   "metadata": {},
   "outputs": [
    {
     "name": "stdout",
     "output_type": "stream",
     "text": [
      "testing MSIs with bit width up to 4 exhaustively\n",
      "    testing bit width: 1\n",
      "    testing bit width: 2\n",
      "    testing bit width: 3\n",
      "    testing bit width: 4\n",
      "- tested 25000 arguments\n",
      "- tested 50000 arguments\n",
      "- tested 75000 arguments\n",
      "- tested 100000 arguments\n",
      "- tested 125000 arguments\n",
      "- tested 150000 arguments\n",
      "- tested 175000 arguments\n",
      "- tested 200000 arguments\n",
      "- tested 225000 arguments\n",
      "- tested 250000 arguments\n",
      "- tested 275000 arguments\n",
      "- tested 300000 arguments\n",
      "- tested 325000 arguments\n",
      "testing random MSIs with bit width from 5 to 8\n",
      "    testing bit width: 5\n",
      "- tested 350000 arguments\n",
      "    testing bit width: 6\n",
      "- tested 375000 arguments\n",
      "- tested 400000 arguments\n",
      "- tested 425000 arguments\n",
      "    testing bit width: 7\n",
      "- tested 450000 arguments\n",
      "- tested 475000 arguments\n",
      "- tested 500000 arguments\n",
      "- tested 525000 arguments\n",
      "    testing bit width: 8\n",
      "- tested 550000 arguments\n",
      "- tested 575000 arguments\n",
      "- tested 600000 arguments\n",
      "- tested 625000 arguments\n",
      "succeeded (tested 647793 arguments in total)\n",
      "arguments with least precise results:\n",
      "0[174, 174]_{8}, 173[1, 174]_{8}: 2.232142857142857e-05\n",
      "0[221, 221]_{8}, 183[38, 221]_{8}: 3.519144144144144e-05\n",
      "0[221, 221]_{8}, 212[9, 221]_{8}: 3.519144144144144e-05\n",
      "0[221, 221]_{8}, 65[174, 239]_{8}: 3.519144144144144e-05\n",
      "0[221, 221]_{8}, 73[174, 247]_{8}: 3.519144144144144e-05\n",
      "0[221, 221]_{8}, 118[113, 231]_{8}: 3.519144144144144e-05\n",
      "0[221, 221]_{8}, 220[1, 221]_{8}: 1.759572072072072e-05\n",
      "174[0, 174]_{8}, 173[1, 174]_{8}: 2.232142857142857e-05\n"
     ]
    }
   ],
   "source": [
    "bin_op_test(urem, lambda n, a, b: (a % b) % 2**n, big=False, non_zero=True)"
   ]
  },
  {
   "cell_type": "code",
   "execution_count": 162,
   "metadata": {},
   "outputs": [],
   "source": [
    "def udiv(i, j, debug=False):\n",
    "    n, _, _, _ = i._tuple_repr()\n",
    "    m, _, _, t = j._tuple_repr()\n",
    "    assert n == m, 'strides must be equal'\n",
    "    a, b = umin_MSI(i), umax_MSI(i)\n",
    "    c, d = umin_MSI(j), umax_MSI(j)\n",
    "    s = ustride(i)\n",
    "    m = 2**n\n",
    "    if c == 0:\n",
    "        if t == 0:\n",
    "            return MSI(n, 0, (-1) % 2**n, 1)\n",
    "        else:\n",
    "            c = ustride(j)\n",
    "    s_ = int(gcd(a, s))\n",
    "    if t == 0:\n",
    "        u = s_ // c\n",
    "        u = u if u*c == s_ else 1\n",
    "        return normalize(MSI(n, a//c, b//c, u))\n",
    "    else:\n",
    "        e, f = a//d, b//c\n",
    "        return normalize(MSI(n, e, f, 1))"
   ]
  },
  {
   "cell_type": "code",
   "execution_count": 168,
   "metadata": {},
   "outputs": [
    {
     "data": {
      "text/plain": [
       "6[48, 8]_{6}"
      ]
     },
     "execution_count": 168,
     "metadata": {},
     "output_type": "execute_result"
    }
   ],
   "source": [
    "normalize(MSI(6, 48, 12, 6))"
   ]
  },
  {
   "cell_type": "code",
   "execution_count": 171,
   "metadata": {},
   "outputs": [
    {
     "data": {
      "text/plain": [
       "2[6, 12]_{6}"
      ]
     },
     "execution_count": 171,
     "metadata": {},
     "output_type": "execute_result"
    }
   ],
   "source": [
    "udiv(MSI(6, 18, 36, 6), MSI(6, 3, 3, 0))"
   ]
  },
  {
   "cell_type": "code",
   "execution_count": 163,
   "metadata": {},
   "outputs": [
    {
     "name": "stdout",
     "output_type": "stream",
     "text": [
      "1[1, 5]_{3}, 3[2, 0]_{3}: {1, 2, 3, 4, 5}, {0, 2, 5}\n",
      "1[0, 5]_{3}: {0, 1, 2, 3, 4, 5}\n"
     ]
    }
   ],
   "source": [
    "lhs, rhs = MSI(3, 1, 5, 1), MSI(3, 2, 0, 3)\n",
    "print(f'{lhs}, {rhs}: {gamma(lhs)}, {gamma(rhs)}')\n",
    "res = udiv(lhs, rhs, debug=True)\n",
    "print(f'{res}: {gamma(res)}')"
   ]
  },
  {
   "cell_type": "code",
   "execution_count": 164,
   "metadata": {},
   "outputs": [
    {
     "name": "stdout",
     "output_type": "stream",
     "text": [
      "testing MSIs with bit width up to 4 exhaustively\n",
      "    testing bit width: 1\n",
      "    testing bit width: 2\n",
      "    testing bit width: 3\n",
      "    testing bit width: 4\n",
      "- tested 25000 arguments\n",
      "- tested 50000 arguments\n",
      "- tested 75000 arguments\n",
      "- tested 100000 arguments\n",
      "- tested 125000 arguments\n",
      "- tested 150000 arguments\n",
      "- tested 175000 arguments\n",
      "- tested 200000 arguments\n",
      "- tested 225000 arguments\n",
      "- tested 250000 arguments\n",
      "- tested 275000 arguments\n",
      "- tested 300000 arguments\n",
      "- tested 325000 arguments\n",
      "testing random MSIs with bit width from 5 to 8\n",
      "    testing bit width: 5\n",
      "- tested 350000 arguments\n",
      "    testing bit width: 6\n",
      "- tested 375000 arguments\n",
      "- tested 400000 arguments\n",
      "- tested 425000 arguments\n",
      "    testing bit width: 7\n",
      "- tested 450000 arguments\n",
      "- tested 475000 arguments\n",
      "- tested 500000 arguments\n",
      "- tested 525000 arguments\n",
      "    testing bit width: 8\n",
      "- tested 550000 arguments\n",
      "- tested 575000 arguments\n",
      "- tested 600000 arguments\n",
      "- tested 625000 arguments\n",
      "succeeded (tested 647793 arguments in total)\n",
      "arguments with least precise results:\n",
      "74[178, 252]_{8}, 173[1, 174]_{8}: 4.650297619047619e-05\n",
      "0[178, 178]_{8}, 173[1, 174]_{8}: 4.3890449438202246e-05\n",
      "0[178, 178]_{8}, 220[1, 221]_{8}: 4.3645251396648046e-05\n",
      "0[174, 174]_{8}, 173[1, 174]_{8}: 4.489942528735632e-05\n",
      "0[174, 174]_{8}, 220[1, 221]_{8}: 4.464285714285714e-05\n",
      "0[221, 221]_{8}, 173[1, 174]_{8}: 3.535067873303168e-05\n",
      "0[221, 221]_{8}, 220[1, 221]_{8}: 3.535067873303168e-05\n",
      "174[0, 174]_{8}, 220[1, 221]_{8}: 4.464285714285714e-05\n"
     ]
    }
   ],
   "source": [
    "bin_op_test(udiv, lambda n, a, b: (a // b), big=False, non_zero=True)"
   ]
  }
 ],
 "metadata": {
  "kernelspec": {
   "display_name": "Python 3.6",
   "language": "python",
   "name": "py36"
  },
  "language_info": {
   "codemirror_mode": {
    "name": "ipython",
    "version": 3
   },
   "file_extension": ".py",
   "mimetype": "text/x-python",
   "name": "python",
   "nbconvert_exporter": "python",
   "pygments_lexer": "ipython3",
   "version": "3.6.5"
  }
 },
 "nbformat": 4,
 "nbformat_minor": 2
}
