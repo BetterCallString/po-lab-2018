{
 "cells": [
  {
   "cell_type": "markdown",
   "metadata": {},
   "source": [
    "# Modular Strided Intervals\n",
    "\n",
    "$\\texttt{i}N = \\mathbb{Z}/{2^N}$\n",
    "\n",
    "for $s, a, b \\in \\{0..2^N-1\\}$:\n",
    "\n",
    "$\\gamma_N \\colon \\texttt{i}N \\rightarrow \\mathcal{P}(\\mathbb{Z}/{2^N}), s[a, b]_N \\mapsto \\{k \\in [a, b]_N \\mid k \\equiv a \\mod s\\}$ where\n",
    "\n",
    "$[a, b]_N = \\{k+2^N\\mathbb{Z} \\mid k \\in \\{a..\\min\\{l \\in \\mathbb{Z} \\mid a \\leq k \\land l \\equiv b \\mod 2^N\\}\\}\\}$"
   ]
  },
  {
   "cell_type": "code",
   "execution_count": 1,
   "metadata": {},
   "outputs": [],
   "source": [
    "from itertools import count, takewhile\n",
    "from random import randint\n",
    "from sympy import gcd"
   ]
  },
  {
   "cell_type": "code",
   "execution_count": 2,
   "metadata": {},
   "outputs": [],
   "source": [
    "class MSI(object):\n",
    "    \"\"\"\n",
    "    Modular strided iterval\n",
    "    \"\"\"\n",
    "    def __init__(self, bit_width, begin, end, stride=1):\n",
    "        self.bit_width = bit_width\n",
    "        self.begin = begin\n",
    "        self.end = end\n",
    "        self.stride = stride\n",
    "\n",
    "    def __eq__(self, other):\n",
    "        return (self.bit_width == other.bit_width\n",
    "            and self.stride == other.stride\n",
    "            and self.begin == other.begin\n",
    "            and self.end == other.end)\n",
    "\n",
    "    def __repr__(self):\n",
    "        return f'{self.stride}[{self.begin}, {self.end}]_{{{self.bit_width}}}'\n",
    "    \n",
    "    def __hash__(self):\n",
    "        return (self.begin+23) * (self.end+29) * (self.stride+31) % 16777216\n",
    "    \n",
    "    def _tuple_repr(self):\n",
    "        return (self.bit_width, self.begin, self.end, self.stride)"
   ]
  },
  {
   "cell_type": "markdown",
   "metadata": {},
   "source": [
    "## Defining Functions and Predicates"
   ]
  },
  {
   "cell_type": "code",
   "execution_count": 3,
   "metadata": {},
   "outputs": [],
   "source": [
    "# This predicate has not tests, it's an axiom.\n",
    "def valid(i):\n",
    "    n, a, b, s = i._tuple_repr()\n",
    "    if n <= 0:\n",
    "        return False\n",
    "    if a < 0 or 2**n <= a:\n",
    "        return False\n",
    "    if b < 0 or 2**n <= b:\n",
    "        return False\n",
    "    if s < 0 or 2**n <= s:\n",
    "        return False\n",
    "    return True"
   ]
  },
  {
   "cell_type": "code",
   "execution_count": 4,
   "metadata": {},
   "outputs": [],
   "source": [
    "def gamma(i):\n",
    "    n = i.bit_width\n",
    "    s = i.stride\n",
    "    a = i.begin\n",
    "    b = i.end if a <= i.end else i.end + 2**n\n",
    "    return {k % 2**n for k in takewhile(lambda k: k <= b, (a+l*s for l in count()) if s > 0 else [a])}"
   ]
  },
  {
   "cell_type": "code",
   "execution_count": 5,
   "metadata": {},
   "outputs": [],
   "source": [
    "def normal(i):\n",
    "    n, a, b, s = i._tuple_repr()\n",
    "    if s == 0 and a != b:\n",
    "        return False\n",
    "    if a == b and s != 0:\n",
    "        return False\n",
    "    if not b in gamma(i):\n",
    "        return False\n",
    "    a_ = a - s\n",
    "    if a_ != a and a_ >= 0 and gamma(i) == gamma(MSI(n, a_, (b-s) % 2**n, s)):\n",
    "        return False\n",
    "    if b < a and gamma(i) == gamma(MSI(n, b, a, 2**n - s)):\n",
    "        return False\n",
    "    return True"
   ]
  },
  {
   "cell_type": "markdown",
   "metadata": {},
   "source": [
    "## Test sets of MSIs with theire respective concretizations"
   ]
  },
  {
   "cell_type": "code",
   "execution_count": 6,
   "metadata": {},
   "outputs": [],
   "source": [
    "test_MSIs_handpicked_gamma = [\n",
    "    # normalized\n",
    "    #   no wraparound\n",
    "    #     strid = 0\n",
    "    #       begin = 0\n",
    "    (MSI(4, 0, 0, 0), {0}),\n",
    "    #       begin > 0\n",
    "    (MSI(4, 3, 3, 0), {3}),\n",
    "    #     strid = 1\n",
    "    #       begin = 0\n",
    "    #         end < 2**N-1\n",
    "    (MSI(4, 0, 2, 1), {0, 1, 2}),\n",
    "    #         end = 2**N-1\n",
    "    (MSI(3, 0, 7, 1), {0, 1, 2, 3, 4, 5, 6, 7}),\n",
    "    #       begin > 0\n",
    "    (MSI(4, 3, 4, 1), {3, 4}),\n",
    "    #     stride > 1\n",
    "    #       begin = 0\n",
    "    (MSI(4, 0, 4, 2), {0, 2, 4}),\n",
    "    #       begin > 0\n",
    "    (MSI(3, 1, 7, 3), {1, 4, 7}),\n",
    "    (MSI(6, 6, 26, 10), {6, 16, 26}),\n",
    "    #   wraparound\n",
    "    #     stride = 1\n",
    "    (MSI(4, 14, 2, 1), {14, 15, 0, 1, 2}),\n",
    "    #     stride > 1\n",
    "    (MSI(4, 11, 4, 3), {1, 4, 11, 14})]\n",
    "test_MSIs_handpicked_gamma_unnormalized = [\n",
    "    # unnormalized\n",
    "    #   no wraparound\n",
    "    #     stride = 0\n",
    "    #       begin = 0\n",
    "    (MSI(4, 0, 3, 0), {0}),\n",
    "    #       begin > 0\n",
    "    (MSI(4, 3, 8, 0), {3}),\n",
    "    #     stride = 1\n",
    "    #       begin = 0\n",
    "    #         end = begin\n",
    "    (MSI(4, 0, 0, 1), {0}),\n",
    "    #         end != begin\n",
    "    (MSI(2, 2, 1, 1), {0, 1, 2, 3}),\n",
    "    #       begin > 0\n",
    "    #         end = begin\n",
    "    (MSI(4, 3, 3, 1), {3}),\n",
    "    #         end != begin\n",
    "    (MSI(3, 5, 4, 1), {0, 1, 2, 3, 4, 5, 6, 7}),\n",
    "    #     stride > 1\n",
    "    #       begin = 0\n",
    "    (MSI(4, 0, 5, 2), {0, 2, 4}),\n",
    "    (MSI(4, 0, 3, 5), {0}),\n",
    "    #       begin > 0\n",
    "    #         end = begin - stride mod 2**N\n",
    "    (MSI(4, 11, 7, 4), {3, 7, 11, 15}),\n",
    "    #         end != begin - stride mod 2**N\n",
    "    (MSI(6, 6, 35, 10), {6, 16, 26}),\n",
    "    (MSI(4, 3, 7, 5), {3}),\n",
    "    #   wraparound\n",
    "    #     stride = 0\n",
    "    (MSI(4, 5, 3, 0), {5}),\n",
    "    #     stride = 1\n",
    "    (MSI(3, 5, 4, 1), {0, 1, 2, 3, 4, 5, 6, 7}),\n",
    "    (MSI(4, 15, 0, 1), {15, 0}),\n",
    "    #     stride > 1\n",
    "    #       end = begin - stride mod 2**N\n",
    "    (MSI(4, 10, 6, 4), {2, 6, 10, 14}),\n",
    "    (MSI(4, 12, 2, 6), {2, 12}),\n",
    "    #       end != begin and != begin - stride mod 2**N\n",
    "    (MSI(4, 13, 2, 8), {13}),\n",
    "    (MSI(4, 11, 6, 3), {11, 14, 1, 4}),\n",
    "    (MSI(4, 10, 9, 4), {2, 6, 10, 14}),\n",
    "    (MSI(4, 12, 7, 6), {2, 12})\n",
    "]"
   ]
  },
  {
   "cell_type": "code",
   "execution_count": 7,
   "metadata": {},
   "outputs": [
    {
     "name": "stdout",
     "output_type": "stream",
     "text": [
      "size: 4: 7, 3: 2, 6: 1\n",
      "size: 4: 16, 2: 1, 3: 2, 6: 1\n"
     ]
    }
   ],
   "source": [
    "test_MSIs_handpicked = {}\n",
    "for i, _ in test_MSIs_handpicked_gamma:\n",
    "    n = i.bit_width\n",
    "    if n not in test_MSIs_handpicked:\n",
    "        test_MSIs_handpicked[n] = [i]\n",
    "    else:\n",
    "        test_MSIs_handpicked[n].append(i)\n",
    "print('size: ' + ', '.join(f'{n}: {len(js)}' for n, js in test_MSIs_handpicked.items()))\n",
    "\n",
    "test_MSIs_handpicked_unnormalized = {}\n",
    "for i, _ in test_MSIs_handpicked_gamma_unnormalized:\n",
    "    n = i.bit_width\n",
    "    if n not in test_MSIs_handpicked_unnormalized:\n",
    "        test_MSIs_handpicked_unnormalized[n] = [i]\n",
    "    else:\n",
    "        test_MSIs_handpicked_unnormalized[n].append(i)\n",
    "print('size: ' + ', '.join(f'{n}: {len(js)}' for n, js in test_MSIs_handpicked_unnormalized.items()))"
   ]
  },
  {
   "cell_type": "markdown",
   "metadata": {},
   "source": [
    "## Tests for gamma"
   ]
  },
  {
   "cell_type": "code",
   "execution_count": 8,
   "metadata": {},
   "outputs": [],
   "source": [
    "def test_gamma():\n",
    "    failed = False\n",
    "    for i, ks in test_MSIs_handpicked_gamma:\n",
    "        if not gamma(i) == ks:\n",
    "            failed = True\n",
    "            print(f'{i}: {gamma(i)}, {ks}')\n",
    "    if not failed:\n",
    "        print('succeeded')\n",
    "\n",
    "def test_gamma_unnormalized():\n",
    "    failed = False\n",
    "    for i, ks in test_MSIs_handpicked_gamma_unnormalized:\n",
    "        if not gamma(i) == ks:\n",
    "            failed = True\n",
    "            print(f'{i}: {gamma(i)}, {ks}')\n",
    "    if not failed:\n",
    "        print('succeeded')"
   ]
  },
  {
   "cell_type": "code",
   "execution_count": 9,
   "metadata": {},
   "outputs": [
    {
     "name": "stdout",
     "output_type": "stream",
     "text": [
      "succeeded\n",
      "succeeded\n"
     ]
    }
   ],
   "source": [
    "test_gamma()\n",
    "test_gamma_unnormalized()"
   ]
  },
  {
   "cell_type": "markdown",
   "metadata": {},
   "source": [
    "## Normalization function"
   ]
  },
  {
   "cell_type": "code",
   "execution_count": 10,
   "metadata": {},
   "outputs": [],
   "source": [
    "def normalize(i):\n",
    "    n, a, b, s = i._tuple_repr()\n",
    "    if s == 0:\n",
    "        b = a\n",
    "    else:\n",
    "        b_ = b if a <= b else b+2**n\n",
    "        b = (b_ - (b_-a) % s) % 2**n\n",
    "        if a == b:\n",
    "            s = 0\n",
    "        else:\n",
    "            if 2**n % s == 0 and (a-b) % 2**n == s:\n",
    "                a = a % s\n",
    "                b = (a-s) % 2**n\n",
    "            elif b == (a+s) % 2**n and b < a:\n",
    "                a, b = b, a\n",
    "                s = b-a\n",
    "    return MSI(n, a, b, s)"
   ]
  },
  {
   "cell_type": "markdown",
   "metadata": {},
   "source": [
    "## Test sets and utility functions for testing"
   ]
  },
  {
   "cell_type": "markdown",
   "metadata": {},
   "source": [
    "Warning:\n",
    "\n",
    "`normal` is used in `unary_function_test` if the `unnormalized` parameter is `True`, but tested later. Therefore this parameter should not be set before `normal` is tested."
   ]
  },
  {
   "cell_type": "code",
   "execution_count": 11,
   "metadata": {},
   "outputs": [],
   "source": [
    "def test_set(bit_widths, begins, ends, strides, only_normal=True, print_stats=False):\n",
    "    MSIs = {}\n",
    "    for n in bit_widths:\n",
    "        js = set()\n",
    "        bs = begins(n)\n",
    "        for b in bs:\n",
    "            es = ends(n)\n",
    "            for e in es:\n",
    "                ss = strides(n)\n",
    "                for s in ss:\n",
    "                    if only_normal:\n",
    "                        js.add(normalize(MSI(n, b, e, s)))\n",
    "                    else:\n",
    "                        js.add(MSI(n, b, e, s))\n",
    "        MSIs[n] = list(js)\n",
    "    if print_stats:\n",
    "        print('size: ' + ', '.join(f'{n}: {len(js)}' for n, js in MSIs.items()))\n",
    "        if not only_normal:\n",
    "            print('unnormalized: ' + ', '.join(f'{n}: {len(list(0 for j in js if not normal(j)))}' for n, js in MSIs.items()))\n",
    "    return MSIs"
   ]
  },
  {
   "cell_type": "code",
   "execution_count": 12,
   "metadata": {},
   "outputs": [
    {
     "name": "stdout",
     "output_type": "stream",
     "text": [
      "test_MSIs_4_exhaustive\n",
      "size: 1: 3, 2: 15, 3: 95, 4: 575\n",
      "test_MSIs_4_exhaustive\n",
      "size: 1: 8, 2: 64, 3: 512, 4: 4096\n",
      "unnormalized: 1: 5, 2: 49, 3: 417, 4: 3521\n"
     ]
    }
   ],
   "source": [
    "f = lambda n: list(range(2**n))\n",
    "g = lambda n: list(range(2**n))\n",
    "print('test_MSIs_4_exhaustive')\n",
    "test_MSIs_4_exhaustive = test_set(range(1, 4+1), f, g, f, print_stats=True)\n",
    "print('test_MSIs_4_exhaustive')\n",
    "test_MSIs_4_exhaustive_unnormalized = test_set(range(1, 4+1), f, g, f, only_normal=False, print_stats=True)"
   ]
  },
  {
   "cell_type": "code",
   "execution_count": 13,
   "metadata": {},
   "outputs": [
    {
     "name": "stdout",
     "output_type": "stream",
     "text": [
      "test_MSIs_5_6_exhaustive\n",
      "size: 5: 3039, 6: 15231\n",
      "test_MSIs_5_6_exhaustive\n",
      "size: 5: 32768, 6: 262144\n",
      "unnormalized: 5: 29729, 6: 246913\n"
     ]
    }
   ],
   "source": [
    "f = lambda n: list(range(2**n))\n",
    "g = lambda n: list(range(2**n))\n",
    "print('test_MSIs_5_6_exhaustive')\n",
    "test_MSIs_5_6_exhaustive = test_set(range(5, 6+1), f, g, f, print_stats=True)\n",
    "print('test_MSIs_5_6_exhaustive')\n",
    "test_MSIs_5_6_exhaustive_unnormalized = test_set(range(5, 6+1), f, g, f, only_normal=False, print_stats=True)"
   ]
  },
  {
   "cell_type": "code",
   "execution_count": 14,
   "metadata": {},
   "outputs": [],
   "source": [
    "test_MSIs_6_exhaustive = {\n",
    "    **test_MSIs_4_exhaustive, **test_MSIs_5_6_exhaustive\n",
    "}\n",
    "test_MSIs_6_exhaustive_unnormalized = {\n",
    "    **test_MSIs_4_exhaustive_unnormalized, **test_MSIs_5_6_exhaustive_unnormalized\n",
    "}"
   ]
  },
  {
   "cell_type": "code",
   "execution_count": 15,
   "metadata": {},
   "outputs": [
    {
     "name": "stdout",
     "output_type": "stream",
     "text": [
      "test_MSIs_6_partial\n",
      "size: 6: 4111\n",
      "\n",
      "test_MSIs_6_partial_unnormalized\n",
      "size: 6: 10648\n",
      "unnormalized: 6: 9309\n"
     ]
    }
   ],
   "source": [
    "ks = [a+b for a in [0, 30] for b in [0, 1, 2, 3, 4, 5, 6, 7, 8, 10, 15]]\n",
    "ls = [30, 31, 32, 33, 35, 36, 40, 45]\n",
    "f = lambda _: ks\n",
    "print('test_MSIs_6_partial')\n",
    "test_MSIs_6_partial = test_set([6], f, g, f, print_stats=True)\n",
    "print('\\ntest_MSIs_6_partial_unnormalized')\n",
    "test_MSIs_6_partial_unnormalized = test_set([6], f, f, f, only_normal=False, print_stats=True)"
   ]
  },
  {
   "cell_type": "code",
   "execution_count": 16,
   "metadata": {},
   "outputs": [
    {
     "name": "stdout",
     "output_type": "stream",
     "text": [
      "test_MSIs_8_partial\n",
      "size: 8: 2438\n",
      "\n",
      "test_MSIs_8_partial_unnormalized\n",
      "size: 8: 10647\n",
      "unnormalized: 8: 9705\n"
     ]
    }
   ],
   "source": [
    "ks = [a+b for a in [0, 30, 60] for b in [0, 1, 2, 3, 4, 5, 6, 7, 8, 9, 10, 15, 25]]\n",
    "ls = [0, 2, 3, 5, 6, 10, 15]\n",
    "f = lambda n: takewhile(lambda k: k < 2**n, ks)\n",
    "g = lambda n: (((15 if 2**n < 30 else 45) + 15 + a) % 2**n for a in ls)\n",
    "print('test_MSIs_8_partial')\n",
    "test_MSIs_8_partial = test_set([8], f, g, f, print_stats=True)\n",
    "print('\\ntest_MSIs_8_partial_unnormalized')\n",
    "test_MSIs_8_partial_unnormalized = test_set([8], f, g, f, only_normal=False, print_stats=True)"
   ]
  },
  {
   "cell_type": "code",
   "execution_count": 17,
   "metadata": {},
   "outputs": [
    {
     "name": "stdout",
     "output_type": "stream",
     "text": [
      "test_MSIs_random\n",
      "size: 5: 201, 6: 299, 7: 344, 8: 366\n",
      "\n",
      "test_MSIs_random_unnormalized\n",
      "size: 5: 326, 6: 317, 7: 496, 8: 486\n",
      "unnormalized: 5: 271, 6: 286, 7: 475, 8: 469\n"
     ]
    }
   ],
   "source": [
    "f = lambda n: set(randint(0, 2**n-1) for _ in range(8))\n",
    "g = lambda n: set(randint(0, 2**(n-1)-1) for _ in range(8))\n",
    "print('test_MSIs_random')\n",
    "test_MSIs_random = test_set(range(5, 8+1), f, f, g, print_stats=True)\n",
    "print('\\ntest_MSIs_random_unnormalized')\n",
    "test_MSIs_random_unnormalized = test_set(range(5, 8+1), f, f, g, only_normal=False, print_stats=True)"
   ]
  },
  {
   "cell_type": "code",
   "execution_count": 18,
   "metadata": {},
   "outputs": [],
   "source": [
    "def _unary_function_test(f, p, test_MSIs, test_count=0, fail_count=0, fail_lim=8):\n",
    "    for n, js in test_MSIs.items():\n",
    "        print(f'    testing bit width: {n}')\n",
    "        for i in js:\n",
    "            test_count += 1\n",
    "            x = f(i)\n",
    "            if not p(i, x):\n",
    "                fail_count += 1\n",
    "                print(f'        {i}: {x}')\n",
    "                if fail_count == fail_lim:\n",
    "                    return test_count, fail_count\n",
    "            if test_count % 25000 == 0:\n",
    "                print(f'- tested {test_count} arguments')\n",
    "    return test_count, fail_count\n",
    "\n",
    "def unary_function_test(f, p, big=False, unnormalized=False):\n",
    "    fail_lim = 16 if big else 8\n",
    "    test_count = fail_count = 0\n",
    "    print('testing MSIs with bit width up to 4 exhaustively')\n",
    "    MSIs = test_MSIs_4_exhaustive_unnormalized if unnormalized else test_MSIs_4_exhaustive\n",
    "    test_count, fail_count = _unary_function_test(f, p, MSIs, test_count, fail_count, fail_lim)\n",
    "    if fail_count == fail_lim:\n",
    "        return\n",
    "    print('testing random MSIs with bit width from 5 to 8')\n",
    "    MSIs = test_MSIs_random_unnormalized if unnormalized else test_MSIs_random\n",
    "    test_count, fail_count = _unary_function_test(f, p, MSIs, test_count, fail_count, fail_lim)\n",
    "    if fail_count == fail_lim:\n",
    "        return\n",
    "    if big:\n",
    "        print('testing some MSIs with bit width 6')\n",
    "        MSIs = test_MSIs_6_partial_unnormalized if unnormalized else test_MSIs_6_partial\n",
    "        test_count, fail_count = _unary_function_test(f, p, MSIs, test_count, fail_count, fail_lim)\n",
    "        if fail_count == fail_lim:\n",
    "            return\n",
    "        print('testing some MSIs with bit width 8')\n",
    "        MSIs = test_MSIs_8_partial_unnormalized if unnormalized else test_MSIs_8_partial\n",
    "        test_count, fail_count = _unary_function_test(f, p, MSIs, test_count, fail_count, fail_lim)\n",
    "        if fail_count == fail_lim:\n",
    "            return\n",
    "    if fail_count == 0:\n",
    "        print(f'succeeded (tested {test_count} arguments in total)')"
   ]
  },
  {
   "cell_type": "code",
   "execution_count": 19,
   "metadata": {},
   "outputs": [],
   "source": [
    "def _bin_op_test(op_MSI, op, test_MSIs, test_count=0, fail_count=0, fail_lim=8, bad_args={}, bad_lim=8, non_zero=False):\n",
    "    bad_precision = max(bad_args.values()) if len(bad_args) > 0 else 1\n",
    "    for n, js in test_MSIs.items():\n",
    "        print(f'    testing bit width: {n}')\n",
    "        for i in js:\n",
    "            vals_i = gamma(i)\n",
    "            for j in js:\n",
    "                test_count += 1\n",
    "                vals_j = gamma(j)\n",
    "                if non_zero and 0 in vals_j:\n",
    "                    vals_op = {k for k in range(2**n)}\n",
    "                else:\n",
    "                    vals_op = {op(n, k, l) for k in vals_i for l in vals_j}\n",
    "                vals_op_MSI = gamma(op_MSI(i, j))\n",
    "                if not vals_op <= vals_op_MSI:\n",
    "                    fail_count += 1\n",
    "                    print(f'        {i} op {j}: {op(i, j)}')\n",
    "                    if fail_count == fail_lim:\n",
    "                        return test_count, fail_count, bad_args\n",
    "                else:\n",
    "                    precision = len(vals_op) / (len(vals_op_MSI) * 2**n)\n",
    "                    if precision < bad_precision:\n",
    "                        if len(bad_args) == bad_lim:\n",
    "                            bad_args.pop(list(bad_args.keys())[list(bad_args.values()).index(bad_precision)])\n",
    "                        bad_args[(i, j)] = precision\n",
    "                        bad_precision = max(bad_args.values())\n",
    "                if test_count % 25000 == 0:\n",
    "                    print(f'- tested {test_count} arguments')\n",
    "    return test_count, fail_count, bad_args\n",
    "\n",
    "def bin_op_test(op_MSI, op, big=False, non_zero=False):\n",
    "    fail_lim = bad_lim = 16 if big else 8\n",
    "    test_count = fail_count = 0\n",
    "    bad_args = {}\n",
    "    print('testing MSIs with bit width up to 4 exhaustively')\n",
    "    test_count, fail_count, bad_args = _bin_op_test(op_MSI, op, test_MSIs_4_exhaustive, test_count, fail_count, fail_lim, bad_args, bad_lim, non_zero=non_zero)\n",
    "    if fail_count == fail_lim:\n",
    "        return\n",
    "    print('testing random MSIs with bit width from 5 to 8')\n",
    "    test_count, fail_count, bad_args = _bin_op_test(op_MSI, op, test_MSIs_random, test_count, fail_count, fail_lim, bad_args, bad_lim, non_zero=non_zero)\n",
    "    if fail_count == fail_lim:\n",
    "        return\n",
    "    if big:\n",
    "        print('testing some MSIs with bit width 6')\n",
    "        test_count, fail_count, bad_args = _bin_op_test(op_MSI, op, test_MSIs_6_partial, test_count, fail_count, fail_lim, bad_args, bad_lim, non_zero=non_zero)\n",
    "        if fail_count == fail_lim:\n",
    "            return\n",
    "        print('testing some MSIs with bit width 8')\n",
    "        test_count, fail_count, bad_args = _bin_op_test(op_MSI, op, test_MSIs_8_partial, test_count, fail_count, fail_lim, bad_args, bad_lim, non_zero=non_zero)\n",
    "        if fail_count == fail_lim:\n",
    "            return\n",
    "    if fail_count == 0:\n",
    "        print(f'succeeded (tested {test_count} arguments in total)')\n",
    "        print('arguments with least precise results:')\n",
    "        for (i, j), r in bad_args.items():\n",
    "            print(f'{i}, {j}: {r}')"
   ]
  },
  {
   "cell_type": "code",
   "execution_count": 109,
   "metadata": {},
   "outputs": [],
   "source": [
    "def _bin_rel_test(rel_MSI, rel, test_MSIs, test_count=0, fail_count=0, fail_lim=8):\n",
    "    for n, js in test_MSIs.items():\n",
    "        print(f'    testing bit width: {n}')\n",
    "        for i in js:\n",
    "            for j in js:\n",
    "                test_count += 1\n",
    "                if not (rel_MSI(i, j) == rel(i, j)):\n",
    "                    fail_count += 1\n",
    "                    print(f'        {i} rel {j}: {rel_MSI(i, j)}')\n",
    "                    if fail_count == fail_lim:\n",
    "                        return test_count, fail_count\n",
    "                if test_count % 25000 == 0:\n",
    "                    print(f'- tested {test_count} arguments')\n",
    "    return test_count, fail_count\n",
    "\n",
    "def bin_rel_test(rel_MSI, rel, big=False):\n",
    "    fail_lim = 16 if big else 8\n",
    "    test_count = fail_count = 0\n",
    "    print('testing MSIs with bit width up to 4 exhaustively')\n",
    "    test_count, fail_count = _bin_rel_test(rel_MSI, rel, test_MSIs_4_exhaustive, test_count, fail_count, fail_lim)\n",
    "    if fail_count == fail_lim:\n",
    "        return\n",
    "    print('testing random MSIs with bit width from 5 to 8')\n",
    "    test_count, fail_count = _bin_rel_test(rel_MSI, rel, test_MSIs_random, test_count, fail_count, fail_lim)\n",
    "    if fail_count == fail_lim:\n",
    "        return\n",
    "    if big:\n",
    "        print('testing some MSIs with bit width 6')\n",
    "        test_count, fail_count = _bin_rel_test(rel_MSI, rel, test_MSIs_6_partial, test_count, fail_count, fail_lim)\n",
    "        if fail_count == fail_lim:\n",
    "            return\n",
    "        print('testing some MSIs with bit width 8')\n",
    "        test_count, fail_count = _bin_rel_test(rel_MSI, rel, test_MSIs_8_partial, test_count, fail_count, fail_lim)\n",
    "        if fail_count == fail_lim:\n",
    "            return\n",
    "    if fail_count == 0:\n",
    "        print(f'succeeded (tested {test_count} arguments in total)')"
   ]
  },
  {
   "cell_type": "markdown",
   "metadata": {},
   "source": [
    "## Test for normal"
   ]
  },
  {
   "cell_type": "code",
   "execution_count": 21,
   "metadata": {},
   "outputs": [],
   "source": [
    "def test_normal():\n",
    "    failed = False\n",
    "    test_count = fail_count = 0\n",
    "    for n, js in test_MSIs_6_exhaustive.items():\n",
    "        equiv_classes = {}\n",
    "        for i in js:\n",
    "            a = frozenset(gamma(i))\n",
    "            if a in equiv_classes:\n",
    "                equiv_classes[a].add(i)\n",
    "            else:\n",
    "                equiv_classes[a] = {i}\n",
    "        for equiv_class in equiv_classes.values():\n",
    "            norm_forms = list(filter(normal, equiv_class))\n",
    "            test_count += 1\n",
    "            if len(norm_forms) != 1:\n",
    "                failed = True\n",
    "                fail_count += 1\n",
    "                if len(norm_forms) == 0:\n",
    "                    print(f'no normal form for {equiv_class}')\n",
    "                else:\n",
    "                    print(f'multiple normal forms {norm_forms}')\n",
    "                if fail_count > 8:\n",
    "                    return\n",
    "    print(f'succeeded (tested {test_count} equivalence classes in total)')"
   ]
  },
  {
   "cell_type": "code",
   "execution_count": 22,
   "metadata": {},
   "outputs": [
    {
     "name": "stdout",
     "output_type": "stream",
     "text": [
      "succeeded (tested 18958 equivalence classes in total)\n"
     ]
    }
   ],
   "source": [
    "test_normal()"
   ]
  },
  {
   "cell_type": "markdown",
   "metadata": {},
   "source": [
    "## Helper functions"
   ]
  },
  {
   "cell_type": "code",
   "execution_count": 23,
   "metadata": {},
   "outputs": [],
   "source": [
    "def bounds(i):\n",
    "    n, a, b, _ = i._tuple_repr()\n",
    "    if a <= b:\n",
    "        return a, b, False\n",
    "    else:\n",
    "        return a, b + 2**n, True"
   ]
  },
  {
   "cell_type": "code",
   "execution_count": 24,
   "metadata": {},
   "outputs": [],
   "source": [
    "def contains(i, k):\n",
    "    n, a, b, s = i._tuple_repr()\n",
    "    if s == 0:\n",
    "        return a == k\n",
    "    elif a <= b:\n",
    "        return a <= k and k <= b and (k - a) % s == 0\n",
    "    else:\n",
    "        if k >= a:\n",
    "            return (k - a) % s == 0\n",
    "        elif k <= b:\n",
    "            return (k - b) % s == 0\n",
    "        else:\n",
    "            return False"
   ]
  },
  {
   "cell_type": "code",
   "execution_count": 25,
   "metadata": {},
   "outputs": [],
   "source": [
    "def test_contains():\n",
    "    failed = False\n",
    "    test_count = fail_count = 0\n",
    "    for n, js in test_MSIs_6_exhaustive.items():\n",
    "        for i in js:\n",
    "            test_count += 1\n",
    "            a = gamma(i)\n",
    "            for k in range(2**n):\n",
    "                if k in a and not contains(i, k):\n",
    "                    failed = True\n",
    "                    fail_count += 1\n",
    "                    print(f'{k} in gamma({i})')\n",
    "                if k not in a and contains(i, k):\n",
    "                    failed = True\n",
    "                    fail_count += 1\n",
    "                    print(f'{k} not in gamma({i})')\n",
    "                if fail_count > 8:\n",
    "                    return\n",
    "    print(f'succeeded (tested {test_count} arguments)')"
   ]
  },
  {
   "cell_type": "code",
   "execution_count": 26,
   "metadata": {},
   "outputs": [
    {
     "name": "stdout",
     "output_type": "stream",
     "text": [
      "succeeded (tested 18958 arguments)\n"
     ]
    }
   ],
   "source": [
    "test_contains()"
   ]
  },
  {
   "cell_type": "code",
   "execution_count": null,
   "metadata": {},
   "outputs": [],
   "source": [
    "            if a <= b:\n",
    "                if c <= d:\n",
    "                    if debug:\n",
    "                        print('5.1.1.1')\n",
    "                    return c <= a and b <= d and (a-c) % t == 0\n",
    "                else:\n",
    "                    if a <= d:\n",
    "                        if b <= d:\n",
    "                            if debug:\n",
    "                                print('5.1.1.2.1.1')\n",
    "                            return (d-a) % t == 0\n",
    "                        else:\n",
    "                            if debug:\n",
    "                                print('5.1.1.2.1.2')\n",
    "                            return c-d <= s and (d-a) % t == 0 and (b-c) % t == 0\n",
    "                    else:\n",
    "                        if debug:\n",
    "                            print('5.1.1.2.2')\n",
    "                        return c <= a and (d-a) % t == 0\n",
    "            else:\n",
    "                if c <= d:\n",
    "                    if debug:\n",
    "                        print('5.1.2.1')\n",
    "                    e = d - (d-a) % s\n",
    "                    return (c-d) % 2**n <= s and (a-c) % t == 0 and (b-c) % t == 0 and e+s >= c + 2**n\n",
    "                else:\n",
    "                    if debug:\n",
    "                        print('5.1.2.2')\n",
    "                    return c <= a and b <= d and (a-c) % t == 0"
   ]
  },
  {
   "cell_type": "code",
   "execution_count": 123,
   "metadata": {},
   "outputs": [],
   "source": [
    "def leq_MSI(i, j, debug=False):\n",
    "    n, a, b, s = i._tuple_repr()\n",
    "    m, c, d, t = j._tuple_repr()\n",
    "    assert n == m, 'strides must be equal'\n",
    "    if s == 0: # i contains exactly 1 value\n",
    "        return contains(j, a)\n",
    "    elif t == 0: # j contains exactly 1 value\n",
    "        return False\n",
    "    elif b == (a+s) % 2**n: # i contains exactly 2 values\n",
    "        return contains(j, a) and contains(j, b)\n",
    "    if s % t == 0:\n",
    "        if 2**n % t == 0 and (c-d) % 2**n == t: # j represents a residue class of Z/t (=> t | 2**n)\n",
    "            return (a-c) % t == 0 and s % t == 0\n",
    "        else:\n",
    "            b_ = (b-a) % 2**n\n",
    "            c_, d_ = (c-a) % 2**n, (d-a) % 2**n\n",
    "            if (c-d) % 2**n <= s and d_ < c_ and d_ <= b_ and c_ <= b_: # this branch may not return, but continue below [a...d_...c_...b_...]\n",
    "                e_ = s * (d_ // s)\n",
    "                f_ = (b_ - s * ((b_-c_) // s)) % s**n\n",
    "                if (f_-e_) == s:\n",
    "                    if e_ < s:\n",
    "                        if contains(j, a) and s % t == 0 and c_ % t == 0:\n",
    "                            return True\n",
    "                    elif (f_-c_) < s:\n",
    "                        if contains(j, b) and s % t == 0 and d_ % t == 0:\n",
    "                            return True\n",
    "                    else:\n",
    "                        if s % t == 0:\n",
    "                            return True\n",
    "            if c_ <= d_:\n",
    "                return c_ == 0 and b_ <= d_\n",
    "            else:\n",
    "                return b_ <= d_ and (d_-b_) % t == 0\n",
    "    else:\n",
    "        return False"
   ]
  },
  {
   "cell_type": "code",
   "execution_count": 124,
   "metadata": {},
   "outputs": [
    {
     "name": "stdout",
     "output_type": "stream",
     "text": [
      "testing MSIs with bit width up to 4 exhaustively\n",
      "    testing bit width: 1\n",
      "    testing bit width: 2\n",
      "    testing bit width: 3\n",
      "    testing bit width: 4\n",
      "- tested 25000 arguments\n",
      "- tested 50000 arguments\n",
      "- tested 75000 arguments\n",
      "- tested 100000 arguments\n",
      "- tested 125000 arguments\n",
      "- tested 150000 arguments\n",
      "- tested 175000 arguments\n",
      "- tested 200000 arguments\n",
      "- tested 225000 arguments\n",
      "- tested 250000 arguments\n",
      "- tested 275000 arguments\n",
      "- tested 300000 arguments\n",
      "- tested 325000 arguments\n",
      "testing random MSIs with bit width from 5 to 8\n",
      "    testing bit width: 5\n",
      "- tested 350000 arguments\n",
      "- tested 375000 arguments\n",
      "    testing bit width: 6\n",
      "- tested 400000 arguments\n",
      "- tested 425000 arguments\n",
      "- tested 450000 arguments\n",
      "    testing bit width: 7\n",
      "- tested 475000 arguments\n",
      "- tested 500000 arguments\n",
      "- tested 525000 arguments\n",
      "- tested 550000 arguments\n",
      "- tested 575000 arguments\n",
      "    testing bit width: 8\n",
      "- tested 600000 arguments\n",
      "- tested 625000 arguments\n",
      "- tested 650000 arguments\n",
      "- tested 675000 arguments\n",
      "- tested 700000 arguments\n",
      "succeeded (tested 721978 arguments in total)\n"
     ]
    }
   ],
   "source": [
    "bin_rel_test(leq_MSI, lambda i, j: gamma(i) <= gamma(j))"
   ]
  },
  {
   "cell_type": "code",
   "execution_count": 107,
   "metadata": {},
   "outputs": [
    {
     "name": "stdout",
     "output_type": "stream",
     "text": [
      "3[2, 0]_{3} leq 3[5, 3]_{3} = False\n",
      "{0, 2, 5} leq {0, 3, 5} = False\n",
      "5.1\n",
      "5.1.1\n",
      "5.1.1.1\n",
      "5.1.1.1.1\n",
      "5.2.2 - b_: 6, c_: 3, d_: 1\n"
     ]
    },
    {
     "data": {
      "text/plain": [
       "False"
      ]
     },
     "execution_count": 107,
     "metadata": {},
     "output_type": "execute_result"
    }
   ],
   "source": [
    "lhs = MSI(3, 2, 0, 3)\n",
    "rhs = MSI(3, 5, 3, 3)\n",
    "res = leq_MSI(lhs, rhs)\n",
    "print(f'{lhs} leq {rhs} = {res}')\n",
    "print(f'{gamma(lhs)} leq {gamma(rhs)} = {gamma(lhs) <= gamma(rhs)}')\n",
    "leq_MSI(lhs, rhs, debug=True)"
   ]
  },
  {
   "cell_type": "code",
   "execution_count": 57,
   "metadata": {},
   "outputs": [],
   "source": [
    "def max_MSI(i):\n",
    "    n, a, b, s = i._tuple_repr()\n",
    "    if a <= b:\n",
    "        return b\n",
    "    else:\n",
    "        return 2**n - ((2**n - a - 1) % s + 1)"
   ]
  },
  {
   "cell_type": "code",
   "execution_count": 98,
   "metadata": {},
   "outputs": [],
   "source": [
    "def min_MSI(i):\n",
    "    n, a, b, s = i._tuple_repr()\n",
    "    if a <= b:\n",
    "        return a\n",
    "    else:\n",
    "        return a % s"
   ]
  },
  {
   "cell_type": "code",
   "execution_count": 82,
   "metadata": {},
   "outputs": [],
   "source": [
    "def as_unsigned(i):\n",
    "    n, a, b, s = i._tuple_repr()\n",
    "    if a <= b:\n",
    "        return MSI(n, a, b, s)\n",
    "    else:\n",
    "        t = int(gcd(s, (a-b) & 2**n))\n",
    "        c = a % t\n",
    "        d = (c-t) % 2**n\n",
    "        return MSI(n, c, d, t)"
   ]
  },
  {
   "cell_type": "code",
   "execution_count": 99,
   "metadata": {},
   "outputs": [
    {
     "name": "stdout",
     "output_type": "stream",
     "text": [
      "testing MSIs with bit width up to 4 exhaustively\n",
      "    testing bit width: 1\n",
      "    testing bit width: 2\n",
      "    testing bit width: 3\n",
      "        3[3, 1]_{3}: 0\n",
      "        3[4, 2]_{3}: 1\n",
      "        3[5, 3]_{3}: 2\n",
      "        3[2, 0]_{3}: 2\n",
      "    testing bit width: 4\n",
      "        5[9, 3]_{4}: 4\n",
      "        3[12, 2]_{4}: 0\n",
      "        3[9, 5]_{4}: 0\n",
      "        6[11, 7]_{4}: 5\n",
      "        3[14, 7]_{4}: 2\n",
      "        3[13, 3]_{4}: 1\n",
      "        7[8, 6]_{4}: 1\n",
      "        5[10, 4]_{4}: 0\n",
      "        6[4, 0]_{4}: 4\n",
      "        5[3, 2]_{4}: 3\n",
      "        3[10, 6]_{4}: 1\n",
      "        6[5, 1]_{4}: 5\n"
     ]
    }
   ],
   "source": [
    "unary_function_test(min_MSI, lambda i, k: k == min(gamma(i)), big=True)"
   ]
  },
  {
   "cell_type": "code",
   "execution_count": 87,
   "metadata": {},
   "outputs": [
    {
     "name": "stdout",
     "output_type": "stream",
     "text": [
      "testing MSIs with bit width up to 4 exhaustively\n",
      "    testing bit width: 1\n",
      "    testing bit width: 2\n",
      "    testing bit width: 3\n",
      "    testing bit width: 4\n",
      "testing random MSIs with bit width from 5 to 8\n",
      "    testing bit width: 5\n",
      "    testing bit width: 6\n",
      "    testing bit width: 7\n",
      "    testing bit width: 8\n",
      "testing some MSIs with bit width 6\n",
      "    testing bit width: 6\n",
      "testing some MSIs with bit width 8\n",
      "    testing bit width: 8\n",
      "succeeded (tested 5041 arguments in total)\n"
     ]
    }
   ],
   "source": [
    "unary_function_test(max_MSI, lambda i, k: k == max(gamma(i)), big=True)"
   ]
  },
  {
   "cell_type": "code",
   "execution_count": null,
   "metadata": {},
   "outputs": [],
   "source": [
    "unary_function_test(as_unigned, lambda i, j: )"
   ]
  },
  {
   "cell_type": "markdown",
   "metadata": {},
   "source": [
    "## Tests of Basic Functions"
   ]
  },
  {
   "cell_type": "code",
   "execution_count": 60,
   "metadata": {},
   "outputs": [
    {
     "name": "stdout",
     "output_type": "stream",
     "text": [
      "testing MSIs with bit width up to 4 exhaustively\n",
      "    testing bit width: 1\n",
      "    testing bit width: 2\n",
      "    testing bit width: 3\n",
      "    testing bit width: 4\n",
      "testing random MSIs with bit width from 5 to 8\n",
      "    testing bit width: 5\n",
      "    testing bit width: 6\n",
      "    testing bit width: 7\n",
      "    testing bit width: 8\n",
      "testing some MSIs with bit width 6\n",
      "    testing bit width: 6\n",
      "testing some MSIs with bit width 8\n",
      "    testing bit width: 8\n",
      "succeeded (tested 6484 arguments in total)\n"
     ]
    }
   ],
   "source": [
    "unary_function_test(normalize, lambda i, j: i == j, big=True)"
   ]
  },
  {
   "cell_type": "code",
   "execution_count": 61,
   "metadata": {},
   "outputs": [
    {
     "name": "stdout",
     "output_type": "stream",
     "text": [
      "testing MSIs with bit width up to 4 exhaustively\n",
      "    testing bit width: 1\n",
      "    testing bit width: 2\n",
      "    testing bit width: 3\n",
      "    testing bit width: 4\n",
      "testing random MSIs with bit width from 5 to 8\n",
      "    testing bit width: 5\n",
      "    testing bit width: 6\n",
      "    testing bit width: 7\n",
      "    testing bit width: 8\n",
      "testing some MSIs with bit width 6\n",
      "    testing bit width: 6\n",
      "testing some MSIs with bit width 8\n",
      "    testing bit width: 8\n",
      "- tested 25000 arguments\n",
      "succeeded (tested 27648 arguments in total)\n"
     ]
    }
   ],
   "source": [
    "unary_function_test(normalize, lambda i, j: valid(j) and gamma(i) == gamma(j), unnormalized=True, big=True)"
   ]
  },
  {
   "cell_type": "markdown",
   "metadata": {},
   "source": [
    "# Operations"
   ]
  },
  {
   "cell_type": "markdown",
   "metadata": {},
   "source": [
    "## Helper Functions for Tests of Operations"
   ]
  },
  {
   "cell_type": "markdown",
   "metadata": {},
   "source": [
    "## Implementation of Operations"
   ]
  },
  {
   "cell_type": "code",
   "execution_count": 215,
   "metadata": {},
   "outputs": [],
   "source": [
    "def add(i, j):\n",
    "    n, a, b, s = i._tuple_repr()\n",
    "    m, c, d, t = j._tuple_repr()\n",
    "    assert n == m, 'strides must be equal'\n",
    "    u = int(gcd(s, t))\n",
    "    b_ = b if a <= b else b + 2**n\n",
    "    d_ = d if c <= d else d + 2**n\n",
    "    e, f = a+c, b_+d_\n",
    "    if f-e < 2**n:\n",
    "        u_ = u\n",
    "        e_, f_ = e % 2**n, f % 2**n\n",
    "    else:\n",
    "        u_ = int(gcd(u, 2**n))\n",
    "        e_ = e % 2**n\n",
    "        f_ = (e_-u_) % 2**n\n",
    "    return normalize(MSI(n, e_, f_, u_))"
   ]
  },
  {
   "cell_type": "code",
   "execution_count": 325,
   "metadata": {},
   "outputs": [
    {
     "name": "stdout",
     "output_type": "stream",
     "text": [
      "testing MSIs with bit width up to 4 exhaustively\n",
      "    testing bit width: 1\n",
      "    testing bit width: 2\n",
      "    testing bit width: 3\n",
      "    testing bit width: 4\n",
      "- tested 25000 arguments\n",
      "- tested 50000 arguments\n",
      "- tested 75000 arguments\n",
      "- tested 100000 arguments\n",
      "- tested 125000 arguments\n",
      "testing random MSIs with bit width from 5 to 8\n",
      "    testing bit width: 5\n",
      "- tested 150000 arguments\n",
      "    testing bit width: 6\n",
      "- tested 175000 arguments\n",
      "- tested 200000 arguments\n",
      "- tested 225000 arguments\n",
      "    testing bit width: 7\n",
      "- tested 250000 arguments\n",
      "- tested 275000 arguments\n",
      "- tested 300000 arguments\n",
      "- tested 325000 arguments\n",
      "    testing bit width: 8\n",
      "- tested 350000 arguments\n",
      "- tested 375000 arguments\n",
      "- tested 400000 arguments\n",
      "- tested 425000 arguments\n",
      "- tested 450000 arguments\n",
      "- tested 475000 arguments\n",
      "succeeded\n",
      "arguments with least precise results:\n",
      "119[80, 199]_{8}, 137[69, 206]_{8}: 0.01171875\n",
      "129[101, 230]_{8}, 129[101, 230]_{8}: 0.01171875\n",
      "129[101, 230]_{8}, 129[14, 143]_{8}: 0.01171875\n",
      "129[14, 143]_{8}, 129[101, 230]_{8}: 0.01171875\n",
      "129[14, 143]_{8}, 129[14, 143]_{8}: 0.01171875\n",
      "105[147, 252]_{8}, 151[79, 230]_{8}: 0.01171875\n",
      "97[134, 231]_{8}, 159[71, 230]_{8}: 0.01171875\n",
      "165[65, 230]_{8}, 165[65, 230]_{8}: 0.01171875\n"
     ]
    }
   ],
   "source": [
    "bin_op_test(add, lambda n, a, b: (a+b) % 2**n)"
   ]
  },
  {
   "cell_type": "code",
   "execution_count": 88,
   "metadata": {},
   "outputs": [],
   "source": [
    "def mul(i, j, debug=False):\n",
    "    n, a, b, s = i._tuple_repr()\n",
    "    m, c, d, t = j._tuple_repr()\n",
    "    assert n == m, 'strides must be equal'\n",
    "    m = 2**n\n",
    "    u = int(gcd(a, s)) * int(gcd(c, t))\n",
    "    b_ = b if a <= b else b + m\n",
    "    d_ = d if c <= d else d + m\n",
    "    e, f = a*c, b_*d_\n",
    "    if f-e < m:\n",
    "        u_ = u\n",
    "        e_, f_ = e % m, f % m\n",
    "    else:\n",
    "        u_ = int(gcd(u, m))\n",
    "        e_ = e % m\n",
    "        f_  = (e_-u_) % m\n",
    "    if debug:\n",
    "        print(f'u: {u}, e: {e}, f: {f}, u_: {u_}, e_: {e_}, f_: {f_}')\n",
    "    return normalize(MSI(n, e_, f_, u_))"
   ]
  },
  {
   "cell_type": "code",
   "execution_count": 91,
   "metadata": {},
   "outputs": [
    {
     "name": "stdout",
     "output_type": "stream",
     "text": [
      "testing MSIs with bit width up to 4 exhaustively\n",
      "    testing bit width: 1\n",
      "    testing bit width: 2\n",
      "    testing bit width: 3\n",
      "    testing bit width: 4\n",
      "- tested 25000 arguments\n"
     ]
    },
    {
     "ename": "KeyboardInterrupt",
     "evalue": "",
     "output_type": "error",
     "traceback": [
      "\u001b[0;31m---------------------------------------------------------------------------\u001b[0m",
      "\u001b[0;31mPolificationFailed\u001b[0m                        Traceback (most recent call last)",
      "\u001b[0;32m~/anaconda3/envs/py36/lib/python3.6/site-packages/sympy/polys/polytools.py\u001b[0m in \u001b[0;36mgcd\u001b[0;34m(f, g, *gens, **args)\u001b[0m\n\u001b[1;32m   5137\u001b[0m     \u001b[0;32mtry\u001b[0m\u001b[0;34m:\u001b[0m\u001b[0;34m\u001b[0m\u001b[0m\n\u001b[0;32m-> 5138\u001b[0;31m         \u001b[0;34m(\u001b[0m\u001b[0mF\u001b[0m\u001b[0;34m,\u001b[0m \u001b[0mG\u001b[0m\u001b[0;34m)\u001b[0m\u001b[0;34m,\u001b[0m \u001b[0mopt\u001b[0m \u001b[0;34m=\u001b[0m \u001b[0mparallel_poly_from_expr\u001b[0m\u001b[0;34m(\u001b[0m\u001b[0;34m(\u001b[0m\u001b[0mf\u001b[0m\u001b[0;34m,\u001b[0m \u001b[0mg\u001b[0m\u001b[0;34m)\u001b[0m\u001b[0;34m,\u001b[0m \u001b[0;34m*\u001b[0m\u001b[0mgens\u001b[0m\u001b[0;34m,\u001b[0m \u001b[0;34m**\u001b[0m\u001b[0margs\u001b[0m\u001b[0;34m)\u001b[0m\u001b[0;34m\u001b[0m\u001b[0m\n\u001b[0m\u001b[1;32m   5139\u001b[0m     \u001b[0;32mexcept\u001b[0m \u001b[0mPolificationFailed\u001b[0m \u001b[0;32mas\u001b[0m \u001b[0mexc\u001b[0m\u001b[0;34m:\u001b[0m\u001b[0;34m\u001b[0m\u001b[0m\n",
      "\u001b[0;32m~/anaconda3/envs/py36/lib/python3.6/site-packages/sympy/polys/polytools.py\u001b[0m in \u001b[0;36mparallel_poly_from_expr\u001b[0;34m(exprs, *gens, **args)\u001b[0m\n\u001b[1;32m   4265\u001b[0m     \u001b[0mopt\u001b[0m \u001b[0;34m=\u001b[0m \u001b[0moptions\u001b[0m\u001b[0;34m.\u001b[0m\u001b[0mbuild_options\u001b[0m\u001b[0;34m(\u001b[0m\u001b[0mgens\u001b[0m\u001b[0;34m,\u001b[0m \u001b[0margs\u001b[0m\u001b[0;34m)\u001b[0m\u001b[0;34m\u001b[0m\u001b[0m\n\u001b[0;32m-> 4266\u001b[0;31m     \u001b[0;32mreturn\u001b[0m \u001b[0m_parallel_poly_from_expr\u001b[0m\u001b[0;34m(\u001b[0m\u001b[0mexprs\u001b[0m\u001b[0;34m,\u001b[0m \u001b[0mopt\u001b[0m\u001b[0;34m)\u001b[0m\u001b[0;34m\u001b[0m\u001b[0m\n\u001b[0m\u001b[1;32m   4267\u001b[0m \u001b[0;34m\u001b[0m\u001b[0m\n",
      "\u001b[0;32m~/anaconda3/envs/py36/lib/python3.6/site-packages/sympy/polys/polytools.py\u001b[0m in \u001b[0;36m_parallel_poly_from_expr\u001b[0;34m(exprs, opt)\u001b[0m\n\u001b[1;32m   4320\u001b[0m     \u001b[0;32mif\u001b[0m \u001b[0;32mnot\u001b[0m \u001b[0mopt\u001b[0m\u001b[0;34m.\u001b[0m\u001b[0mgens\u001b[0m\u001b[0;34m:\u001b[0m\u001b[0;34m\u001b[0m\u001b[0m\n\u001b[0;32m-> 4321\u001b[0;31m         \u001b[0;32mraise\u001b[0m \u001b[0mPolificationFailed\u001b[0m\u001b[0;34m(\u001b[0m\u001b[0mopt\u001b[0m\u001b[0;34m,\u001b[0m \u001b[0morigs\u001b[0m\u001b[0;34m,\u001b[0m \u001b[0mexprs\u001b[0m\u001b[0;34m,\u001b[0m \u001b[0;32mTrue\u001b[0m\u001b[0;34m)\u001b[0m\u001b[0;34m\u001b[0m\u001b[0m\n\u001b[0m\u001b[1;32m   4322\u001b[0m \u001b[0;34m\u001b[0m\u001b[0m\n",
      "\u001b[0;31mPolificationFailed\u001b[0m: can't construct polynomials from 11, 1",
      "\nDuring handling of the above exception, another exception occurred:\n",
      "\u001b[0;31mKeyboardInterrupt\u001b[0m                         Traceback (most recent call last)",
      "\u001b[0;32m<ipython-input-91-33ece4941bcf>\u001b[0m in \u001b[0;36m<module>\u001b[0;34m()\u001b[0m\n\u001b[0;32m----> 1\u001b[0;31m \u001b[0mbin_op_test\u001b[0m\u001b[0;34m(\u001b[0m\u001b[0mmul\u001b[0m\u001b[0;34m,\u001b[0m \u001b[0;32mlambda\u001b[0m \u001b[0mn\u001b[0m\u001b[0;34m,\u001b[0m \u001b[0ma\u001b[0m\u001b[0;34m,\u001b[0m \u001b[0mb\u001b[0m\u001b[0;34m:\u001b[0m \u001b[0;34m(\u001b[0m\u001b[0ma\u001b[0m\u001b[0;34m*\u001b[0m\u001b[0mb\u001b[0m\u001b[0;34m)\u001b[0m \u001b[0;34m%\u001b[0m \u001b[0;36m2\u001b[0m\u001b[0;34m**\u001b[0m\u001b[0mn\u001b[0m\u001b[0;34m,\u001b[0m \u001b[0mbig\u001b[0m\u001b[0;34m=\u001b[0m\u001b[0;32mFalse\u001b[0m\u001b[0;34m)\u001b[0m\u001b[0;34m\u001b[0m\u001b[0m\n\u001b[0m",
      "\u001b[0;32m<ipython-input-86-e5001e18ac5d>\u001b[0m in \u001b[0;36mbin_op_test\u001b[0;34m(op_MSI, op, big, non_zero)\u001b[0m\n\u001b[1;32m     34\u001b[0m     \u001b[0mbad_args\u001b[0m \u001b[0;34m=\u001b[0m \u001b[0;34m{\u001b[0m\u001b[0;34m}\u001b[0m\u001b[0;34m\u001b[0m\u001b[0m\n\u001b[1;32m     35\u001b[0m     \u001b[0mprint\u001b[0m\u001b[0;34m(\u001b[0m\u001b[0;34m'testing MSIs with bit width up to 4 exhaustively'\u001b[0m\u001b[0;34m)\u001b[0m\u001b[0;34m\u001b[0m\u001b[0m\n\u001b[0;32m---> 36\u001b[0;31m     \u001b[0mtest_count\u001b[0m\u001b[0;34m,\u001b[0m \u001b[0mfail_count\u001b[0m\u001b[0;34m,\u001b[0m \u001b[0mbad_args\u001b[0m \u001b[0;34m=\u001b[0m \u001b[0m_bin_op_test\u001b[0m\u001b[0;34m(\u001b[0m\u001b[0mop_MSI\u001b[0m\u001b[0;34m,\u001b[0m \u001b[0mop\u001b[0m\u001b[0;34m,\u001b[0m \u001b[0mtest_MSIs_4_exhaustive\u001b[0m\u001b[0;34m,\u001b[0m \u001b[0mtest_count\u001b[0m\u001b[0;34m,\u001b[0m \u001b[0mfail_count\u001b[0m\u001b[0;34m,\u001b[0m \u001b[0mfail_lim\u001b[0m\u001b[0;34m,\u001b[0m \u001b[0mbad_args\u001b[0m\u001b[0;34m,\u001b[0m \u001b[0mbad_lim\u001b[0m\u001b[0;34m,\u001b[0m \u001b[0mnon_zero\u001b[0m\u001b[0;34m=\u001b[0m\u001b[0mnon_zero\u001b[0m\u001b[0;34m)\u001b[0m\u001b[0;34m\u001b[0m\u001b[0m\n\u001b[0m\u001b[1;32m     37\u001b[0m     \u001b[0;32mif\u001b[0m \u001b[0mfail_count\u001b[0m \u001b[0;34m==\u001b[0m \u001b[0mfail_lim\u001b[0m\u001b[0;34m:\u001b[0m\u001b[0;34m\u001b[0m\u001b[0m\n\u001b[1;32m     38\u001b[0m         \u001b[0;32mreturn\u001b[0m\u001b[0;34m\u001b[0m\u001b[0m\n",
      "\u001b[0;32m<ipython-input-86-e5001e18ac5d>\u001b[0m in \u001b[0;36m_bin_op_test\u001b[0;34m(op_MSI, op, test_MSIs, test_count, fail_count, fail_lim, bad_args, bad_lim, non_zero)\u001b[0m\n\u001b[1;32m     12\u001b[0m                 \u001b[0;32melse\u001b[0m\u001b[0;34m:\u001b[0m\u001b[0;34m\u001b[0m\u001b[0m\n\u001b[1;32m     13\u001b[0m                     \u001b[0mvals_op\u001b[0m \u001b[0;34m=\u001b[0m \u001b[0;34m{\u001b[0m\u001b[0mop\u001b[0m\u001b[0;34m(\u001b[0m\u001b[0mn\u001b[0m\u001b[0;34m,\u001b[0m \u001b[0mk\u001b[0m\u001b[0;34m,\u001b[0m \u001b[0ml\u001b[0m\u001b[0;34m)\u001b[0m \u001b[0;32mfor\u001b[0m \u001b[0mk\u001b[0m \u001b[0;32min\u001b[0m \u001b[0mvals_i\u001b[0m \u001b[0;32mfor\u001b[0m \u001b[0ml\u001b[0m \u001b[0;32min\u001b[0m \u001b[0mvals_j\u001b[0m\u001b[0;34m}\u001b[0m\u001b[0;34m\u001b[0m\u001b[0m\n\u001b[0;32m---> 14\u001b[0;31m                 \u001b[0mvals_op_MSI\u001b[0m \u001b[0;34m=\u001b[0m \u001b[0mgamma\u001b[0m\u001b[0;34m(\u001b[0m\u001b[0mop_MSI\u001b[0m\u001b[0;34m(\u001b[0m\u001b[0mi\u001b[0m\u001b[0;34m,\u001b[0m \u001b[0mj\u001b[0m\u001b[0;34m)\u001b[0m\u001b[0;34m)\u001b[0m\u001b[0;34m\u001b[0m\u001b[0m\n\u001b[0m\u001b[1;32m     15\u001b[0m                 \u001b[0;32mif\u001b[0m \u001b[0;32mnot\u001b[0m \u001b[0mvals_op\u001b[0m \u001b[0;34m<=\u001b[0m \u001b[0mvals_op_MSI\u001b[0m\u001b[0;34m:\u001b[0m\u001b[0;34m\u001b[0m\u001b[0m\n\u001b[1;32m     16\u001b[0m                     \u001b[0mfail_count\u001b[0m \u001b[0;34m+=\u001b[0m \u001b[0;36m1\u001b[0m\u001b[0;34m\u001b[0m\u001b[0m\n",
      "\u001b[0;32m<ipython-input-88-37c060db6c63>\u001b[0m in \u001b[0;36mmul\u001b[0;34m(i, j, debug)\u001b[0m\n\u001b[1;32m      4\u001b[0m     \u001b[0;32massert\u001b[0m \u001b[0mn\u001b[0m \u001b[0;34m==\u001b[0m \u001b[0mm\u001b[0m\u001b[0;34m,\u001b[0m \u001b[0;34m'strides must be equal'\u001b[0m\u001b[0;34m\u001b[0m\u001b[0m\n\u001b[1;32m      5\u001b[0m     \u001b[0mm\u001b[0m \u001b[0;34m=\u001b[0m \u001b[0;36m2\u001b[0m\u001b[0;34m**\u001b[0m\u001b[0mn\u001b[0m\u001b[0;34m\u001b[0m\u001b[0m\n\u001b[0;32m----> 6\u001b[0;31m     \u001b[0mu\u001b[0m \u001b[0;34m=\u001b[0m \u001b[0mint\u001b[0m\u001b[0;34m(\u001b[0m\u001b[0mgcd\u001b[0m\u001b[0;34m(\u001b[0m\u001b[0ma\u001b[0m\u001b[0;34m,\u001b[0m \u001b[0ms\u001b[0m\u001b[0;34m)\u001b[0m\u001b[0;34m)\u001b[0m \u001b[0;34m*\u001b[0m \u001b[0mint\u001b[0m\u001b[0;34m(\u001b[0m\u001b[0mgcd\u001b[0m\u001b[0;34m(\u001b[0m\u001b[0mc\u001b[0m\u001b[0;34m,\u001b[0m \u001b[0mt\u001b[0m\u001b[0;34m)\u001b[0m\u001b[0;34m)\u001b[0m\u001b[0;34m\u001b[0m\u001b[0m\n\u001b[0m\u001b[1;32m      7\u001b[0m     \u001b[0mb_\u001b[0m \u001b[0;34m=\u001b[0m \u001b[0mb\u001b[0m \u001b[0;32mif\u001b[0m \u001b[0ma\u001b[0m \u001b[0;34m<=\u001b[0m \u001b[0mb\u001b[0m \u001b[0;32melse\u001b[0m \u001b[0mb\u001b[0m \u001b[0;34m+\u001b[0m \u001b[0mm\u001b[0m\u001b[0;34m\u001b[0m\u001b[0m\n\u001b[1;32m      8\u001b[0m     \u001b[0md_\u001b[0m \u001b[0;34m=\u001b[0m \u001b[0md\u001b[0m \u001b[0;32mif\u001b[0m \u001b[0mc\u001b[0m \u001b[0;34m<=\u001b[0m \u001b[0md\u001b[0m \u001b[0;32melse\u001b[0m \u001b[0md\u001b[0m \u001b[0;34m+\u001b[0m \u001b[0mm\u001b[0m\u001b[0;34m\u001b[0m\u001b[0m\n",
      "\u001b[0;32m~/anaconda3/envs/py36/lib/python3.6/site-packages/sympy/polys/polytools.py\u001b[0m in \u001b[0;36mgcd\u001b[0;34m(f, g, *gens, **args)\u001b[0m\n\u001b[1;32m   5138\u001b[0m         \u001b[0;34m(\u001b[0m\u001b[0mF\u001b[0m\u001b[0;34m,\u001b[0m \u001b[0mG\u001b[0m\u001b[0;34m)\u001b[0m\u001b[0;34m,\u001b[0m \u001b[0mopt\u001b[0m \u001b[0;34m=\u001b[0m \u001b[0mparallel_poly_from_expr\u001b[0m\u001b[0;34m(\u001b[0m\u001b[0;34m(\u001b[0m\u001b[0mf\u001b[0m\u001b[0;34m,\u001b[0m \u001b[0mg\u001b[0m\u001b[0;34m)\u001b[0m\u001b[0;34m,\u001b[0m \u001b[0;34m*\u001b[0m\u001b[0mgens\u001b[0m\u001b[0;34m,\u001b[0m \u001b[0;34m**\u001b[0m\u001b[0margs\u001b[0m\u001b[0;34m)\u001b[0m\u001b[0;34m\u001b[0m\u001b[0m\n\u001b[1;32m   5139\u001b[0m     \u001b[0;32mexcept\u001b[0m \u001b[0mPolificationFailed\u001b[0m \u001b[0;32mas\u001b[0m \u001b[0mexc\u001b[0m\u001b[0;34m:\u001b[0m\u001b[0;34m\u001b[0m\u001b[0m\n\u001b[0;32m-> 5140\u001b[0;31m         \u001b[0mdomain\u001b[0m\u001b[0;34m,\u001b[0m \u001b[0;34m(\u001b[0m\u001b[0ma\u001b[0m\u001b[0;34m,\u001b[0m \u001b[0mb\u001b[0m\u001b[0;34m)\u001b[0m \u001b[0;34m=\u001b[0m \u001b[0mconstruct_domain\u001b[0m\u001b[0;34m(\u001b[0m\u001b[0mexc\u001b[0m\u001b[0;34m.\u001b[0m\u001b[0mexprs\u001b[0m\u001b[0;34m)\u001b[0m\u001b[0;34m\u001b[0m\u001b[0m\n\u001b[0m\u001b[1;32m   5141\u001b[0m \u001b[0;34m\u001b[0m\u001b[0m\n\u001b[1;32m   5142\u001b[0m         \u001b[0;32mtry\u001b[0m\u001b[0;34m:\u001b[0m\u001b[0;34m\u001b[0m\u001b[0m\n",
      "\u001b[0;32m~/anaconda3/envs/py36/lib/python3.6/site-packages/sympy/polys/constructor.py\u001b[0m in \u001b[0;36mconstruct_domain\u001b[0;34m(obj, **args)\u001b[0m\n\u001b[1;32m    221\u001b[0m \u001b[0;32mdef\u001b[0m \u001b[0mconstruct_domain\u001b[0m\u001b[0;34m(\u001b[0m\u001b[0mobj\u001b[0m\u001b[0;34m,\u001b[0m \u001b[0;34m**\u001b[0m\u001b[0margs\u001b[0m\u001b[0;34m)\u001b[0m\u001b[0;34m:\u001b[0m\u001b[0;34m\u001b[0m\u001b[0m\n\u001b[1;32m    222\u001b[0m     \u001b[0;34m\"\"\"Construct a minimal domain for the list of coefficients. \"\"\"\u001b[0m\u001b[0;34m\u001b[0m\u001b[0m\n\u001b[0;32m--> 223\u001b[0;31m     \u001b[0mopt\u001b[0m \u001b[0;34m=\u001b[0m \u001b[0mbuild_options\u001b[0m\u001b[0;34m(\u001b[0m\u001b[0margs\u001b[0m\u001b[0;34m)\u001b[0m\u001b[0;34m\u001b[0m\u001b[0m\n\u001b[0m\u001b[1;32m    224\u001b[0m \u001b[0;34m\u001b[0m\u001b[0m\n\u001b[1;32m    225\u001b[0m     \u001b[0;32mif\u001b[0m \u001b[0mhasattr\u001b[0m\u001b[0;34m(\u001b[0m\u001b[0mobj\u001b[0m\u001b[0;34m,\u001b[0m \u001b[0;34m'__iter__'\u001b[0m\u001b[0;34m)\u001b[0m\u001b[0;34m:\u001b[0m\u001b[0;34m\u001b[0m\u001b[0m\n",
      "\u001b[0;32m~/anaconda3/envs/py36/lib/python3.6/site-packages/sympy/polys/polyoptions.py\u001b[0m in \u001b[0;36mbuild_options\u001b[0;34m(gens, args)\u001b[0m\n\u001b[1;32m    729\u001b[0m \u001b[0;34m\u001b[0m\u001b[0m\n\u001b[1;32m    730\u001b[0m     \u001b[0;32mif\u001b[0m \u001b[0mlen\u001b[0m\u001b[0;34m(\u001b[0m\u001b[0margs\u001b[0m\u001b[0;34m)\u001b[0m \u001b[0;34m!=\u001b[0m \u001b[0;36m1\u001b[0m \u001b[0;32mor\u001b[0m \u001b[0;34m'opt'\u001b[0m \u001b[0;32mnot\u001b[0m \u001b[0;32min\u001b[0m \u001b[0margs\u001b[0m \u001b[0;32mor\u001b[0m \u001b[0mgens\u001b[0m\u001b[0;34m:\u001b[0m\u001b[0;34m\u001b[0m\u001b[0m\n\u001b[0;32m--> 731\u001b[0;31m         \u001b[0;32mreturn\u001b[0m \u001b[0mOptions\u001b[0m\u001b[0;34m(\u001b[0m\u001b[0mgens\u001b[0m\u001b[0;34m,\u001b[0m \u001b[0margs\u001b[0m\u001b[0;34m)\u001b[0m\u001b[0;34m\u001b[0m\u001b[0m\n\u001b[0m\u001b[1;32m    732\u001b[0m     \u001b[0;32melse\u001b[0m\u001b[0;34m:\u001b[0m\u001b[0;34m\u001b[0m\u001b[0m\n\u001b[1;32m    733\u001b[0m         \u001b[0;32mreturn\u001b[0m \u001b[0margs\u001b[0m\u001b[0;34m[\u001b[0m\u001b[0;34m'opt'\u001b[0m\u001b[0;34m]\u001b[0m\u001b[0;34m\u001b[0m\u001b[0m\n",
      "\u001b[0;31mKeyboardInterrupt\u001b[0m: "
     ]
    }
   ],
   "source": [
    "bin_op_test(mul, lambda n, a, b: (a*b) % 2**n, big=False)"
   ]
  },
  {
   "cell_type": "code",
   "execution_count": 22,
   "metadata": {},
   "outputs": [
    {
     "data": {
      "text/plain": [
       "3[1, 14]_{4}"
      ]
     },
     "execution_count": 22,
     "metadata": {},
     "output_type": "execute_result"
    }
   ],
   "source": [
    "interprete_as_unsigned(MSI(4, 7, 3, 3))"
   ]
  },
  {
   "cell_type": "code",
   "execution_count": 450,
   "metadata": {},
   "outputs": [],
   "source": [
    "def urem(i, j, debug=False):\n",
    "    n, a, b, s = i._tuple_repr()\n",
    "    m, c, d, t = j._tuple_repr()\n",
    "    assert n == m, 'strides must be equal'\n",
    "    if c == 0 or d < c and d % t == 0:\n",
    "        if debug:\n",
    "            print('1')\n",
    "        e_, f_ = 0, 2**n-1\n",
    "        u_ = 1\n",
    "    elif s == 0:\n",
    "        c_ = c if c <= d else t - ((2**n - c) % t)\n",
    "        if a < c_:\n",
    "            if debug:\n",
    "                print('2.1')\n",
    "            e_, f_ = a, b\n",
    "            u_ = s\n",
    "        else:\n",
    "            if debug:\n",
    "                print('2.2')\n",
    "            e_ = a % int(gcd(t, c))\n",
    "            f_ = d-1\n",
    "            u_ = int(gcd(a, gcd(t, d)))\n",
    "    else:\n",
    "        s_ = s if a <= b else gcd(s, (a-b) % 2**n)\n",
    "        t_ = t if c <= d else gcd(t, (c-d) % 2**n)\n",
    "        if t == 0:\n",
    "            p3_1 = False\n",
    "            if a <= b:\n",
    "                v, w = a // c, b // c\n",
    "                x, y = a % c, b % c\n",
    "                if v == w:\n",
    "                    if debug:\n",
    "                        print('3.1')\n",
    "                    e_, f_ = x, y\n",
    "                    u_ = s\n",
    "                    p3_1 = True\n",
    "            if not p3_1:\n",
    "                if debug:\n",
    "                    print('3.2')\n",
    "                u_ = gcd(s_, c)\n",
    "                e_, f_ = a % u_, c-1\n",
    "        else:\n",
    "            if debug:\n",
    "                print('4')\n",
    "            u_ = gcd(s_, gcd(t_, c))\n",
    "            # if d < c, a more precise result can be achieved by spliting the lhs\n",
    "            # at 2**n-1/0, computing urem for both parts and then take their lub.\n",
    "            e_ = a % u_\n",
    "            d_ = d if c <= d else 2**n - ((2**n - c) % t)\n",
    "            f_ = d_-1\n",
    "    if debug:\n",
    "        print(MSI(n, e_, f_, u_))\n",
    "    return normalize(MSI(n, e_, f_, u_))"
   ]
  },
  {
   "cell_type": "code",
   "execution_count": null,
   "metadata": {},
   "outputs": [],
   "source": [
    "def urem(i, j, debug=False):\n",
    "    "
   ]
  },
  {
   "cell_type": "code",
   "execution_count": 451,
   "metadata": {},
   "outputs": [
    {
     "name": "stdout",
     "output_type": "stream",
     "text": [
      "0[1, 1]_{3}, 3[3, 1]_{3}: {1}, {1, 3, 6}\n",
      "2.2\n",
      "1[1, 0]_{3}\n",
      "1[0, 7]_{3}: {0, 1, 2, 3, 4, 5, 6, 7}\n"
     ]
    }
   ],
   "source": [
    "lhs, rhs = MSI(3, 1, 1, 0), MSI(3, 3, 1, 3)\n",
    "print(f'{lhs}, {rhs}: {gamma(lhs)}, {gamma(rhs)}')\n",
    "res = urem(lhs, rhs, debug=True)\n",
    "print(f'{res}: {gamma(res)}')"
   ]
  },
  {
   "cell_type": "code",
   "execution_count": 447,
   "metadata": {},
   "outputs": [
    {
     "name": "stdout",
     "output_type": "stream",
     "text": [
      "testing MSIs with bit width up to 4 exhaustively\n",
      "    testing bit width: 1\n",
      "    testing bit width: 2\n",
      "    testing bit width: 3\n",
      "        0[1, 1]_{3} op 3[3, 1]_{3}: 3[4, 2]_{3}\n",
      "        0[1, 1]_{3} op 2[7, 3]_{3}: 2[0, 4]_{3}\n",
      "        0[1, 1]_{3} op 2[5, 1]_{3}: 2[6, 2]_{3}\n",
      "        0[3, 3]_{3} op 3[3, 1]_{3}: 3[6, 4]_{3}\n",
      "        0[3, 3]_{3} op 2[7, 3]_{3}: 2[2, 6]_{3}\n",
      "        0[3, 3]_{3} op 3[4, 2]_{3}: 3[7, 5]_{3}\n",
      "        0[3, 3]_{3} op 2[5, 1]_{3}: 2[0, 4]_{3}\n",
      "        0[5, 5]_{3} op 2[7, 3]_{3}: 2[4, 0]_{3}\n"
     ]
    }
   ],
   "source": [
    "bin_op_test(urem, lambda n, a, b: (a % b) % 2**n, big=False, non_zero=True)"
   ]
  }
 ],
 "metadata": {
  "kernelspec": {
   "display_name": "Python 3.6",
   "language": "python",
   "name": "py36"
  },
  "language_info": {
   "codemirror_mode": {
    "name": "ipython",
    "version": 3
   },
   "file_extension": ".py",
   "mimetype": "text/x-python",
   "name": "python",
   "nbconvert_exporter": "python",
   "pygments_lexer": "ipython3",
   "version": "3.6.5"
  }
 },
 "nbformat": 4,
 "nbformat_minor": 2
}
